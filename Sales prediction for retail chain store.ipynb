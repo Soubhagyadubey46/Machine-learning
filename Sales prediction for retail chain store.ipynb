{
 "cells": [
  {
   "cell_type": "markdown",
   "id": "1072332c",
   "metadata": {},
   "source": [
    "# Machine Learning Project -1   (Linear Regression)"
   ]
  },
  {
   "cell_type": "markdown",
   "id": "309b0b3a",
   "metadata": {},
   "source": [
    "## Problem Statement : \n",
    "\n",
    "One of the largest retail chains in the world wants to use their vast data source to build an efficient forecasting model to predict the sales for each SKU in its portfolio at its 76 different stores using historical sales data for the past 3 years on a week-on-week basis. Sales and promotional information is also available for each week - product and store wise. \n",
    "\n",
    "However, no other information regarding stores and products are available. So we need to forecast accurately the sales values for every such product/SKU-store combination for the next 12 weeks accurately.\n",
    "\n",
    "## Data Description:\n",
    "\n",
    "Variable | Definition\n",
    "\n",
    "- record_ID : Unique ID for each week store sku combination\n",
    "- week : Starting Date of the week\n",
    "- store_id : Unique ID for each store (no numerical order to be assumed)\n",
    "- sku_id : Unique ID for each product (no numerical order to be assumed)\n",
    "- total_price : Sales Price of the product\n",
    "- base_price :  Base price of the product\n",
    "- is_featured_sku : Was part of the featured item of the week\n",
    "- is_display_sku : Product was on display at a prominent place at the store\n",
    "- units_sold : (Target) Total Units sold for that week-store-sku combination\n",
    "\n",
    "## Evaluation Metric:\n",
    "\n",
    "- The evaluation metric is 100*RMSLE (Root Mean Squared Log Error).\n",
    "- The basic objective is to implement the project with linear regression and comes up with as much accuracy we can . "
   ]
  },
  {
   "cell_type": "markdown",
   "id": "b6008559",
   "metadata": {},
   "source": [
    "# Exploratory Data Analysis"
   ]
  },
  {
   "cell_type": "code",
   "execution_count": 1,
   "id": "56ff7b04",
   "metadata": {},
   "outputs": [],
   "source": [
    "## Importing the libraries\n",
    "import numpy as np\n",
    "import pandas as pd\n",
    "import matplotlib.pyplot as plt\n",
    "import seaborn as sns\n",
    "from scipy import stats\n",
    "\n",
    "from sklearn.model_selection import train_test_split\n",
    "from sklearn import datasets,linear_model\n",
    "from sklearn.metrics import mean_squared_error,mean_squared_log_error\n",
    "from sklearn.metrics import r2_score\n",
    "from sklearn.preprocessing import minmax_scale\n",
    "\n",
    "from warnings import filterwarnings\n",
    "filterwarnings('ignore')"
   ]
  },
  {
   "cell_type": "code",
   "execution_count": 2,
   "id": "d0a95cf0",
   "metadata": {},
   "outputs": [],
   "source": [
    "## Importing the sales dataset\n",
    "df_train = pd.read_csv(r\"C:\\Users\\Shree\\Desktop\\AV Task\\ML Tasks\\train_0irEZ2H.csv\")\n",
    "df_test = pd.read_csv(r\"C:\\Users\\Shree\\Desktop\\AV Task\\ML Tasks\\test_nfaJ3J5.csv\")"
   ]
  },
  {
   "cell_type": "code",
   "execution_count": 3,
   "id": "44caea92",
   "metadata": {},
   "outputs": [],
   "source": [
    "## Rename 'week' to 'date' column \n",
    "df_train.rename(columns={\"week\":\"date\"},inplace=True)\n",
    "df_test.rename(columns={\"week\":\"date\"},inplace=True)"
   ]
  },
  {
   "cell_type": "code",
   "execution_count": 4,
   "id": "2fd671fe",
   "metadata": {},
   "outputs": [
    {
     "data": {
      "text/html": [
       "<div>\n",
       "<style scoped>\n",
       "    .dataframe tbody tr th:only-of-type {\n",
       "        vertical-align: middle;\n",
       "    }\n",
       "\n",
       "    .dataframe tbody tr th {\n",
       "        vertical-align: top;\n",
       "    }\n",
       "\n",
       "    .dataframe thead th {\n",
       "        text-align: right;\n",
       "    }\n",
       "</style>\n",
       "<table border=\"1\" class=\"dataframe\">\n",
       "  <thead>\n",
       "    <tr style=\"text-align: right;\">\n",
       "      <th></th>\n",
       "      <th>record_ID</th>\n",
       "      <th>date</th>\n",
       "      <th>store_id</th>\n",
       "      <th>sku_id</th>\n",
       "      <th>total_price</th>\n",
       "      <th>base_price</th>\n",
       "      <th>is_featured_sku</th>\n",
       "      <th>is_display_sku</th>\n",
       "      <th>units_sold</th>\n",
       "    </tr>\n",
       "  </thead>\n",
       "  <tbody>\n",
       "    <tr>\n",
       "      <th>0</th>\n",
       "      <td>1</td>\n",
       "      <td>17/01/11</td>\n",
       "      <td>8091</td>\n",
       "      <td>216418</td>\n",
       "      <td>99.0375</td>\n",
       "      <td>111.8625</td>\n",
       "      <td>0</td>\n",
       "      <td>0</td>\n",
       "      <td>20</td>\n",
       "    </tr>\n",
       "    <tr>\n",
       "      <th>1</th>\n",
       "      <td>2</td>\n",
       "      <td>17/01/11</td>\n",
       "      <td>8091</td>\n",
       "      <td>216419</td>\n",
       "      <td>99.0375</td>\n",
       "      <td>99.0375</td>\n",
       "      <td>0</td>\n",
       "      <td>0</td>\n",
       "      <td>28</td>\n",
       "    </tr>\n",
       "    <tr>\n",
       "      <th>2</th>\n",
       "      <td>3</td>\n",
       "      <td>17/01/11</td>\n",
       "      <td>8091</td>\n",
       "      <td>216425</td>\n",
       "      <td>133.9500</td>\n",
       "      <td>133.9500</td>\n",
       "      <td>0</td>\n",
       "      <td>0</td>\n",
       "      <td>19</td>\n",
       "    </tr>\n",
       "    <tr>\n",
       "      <th>3</th>\n",
       "      <td>4</td>\n",
       "      <td>17/01/11</td>\n",
       "      <td>8091</td>\n",
       "      <td>216233</td>\n",
       "      <td>133.9500</td>\n",
       "      <td>133.9500</td>\n",
       "      <td>0</td>\n",
       "      <td>0</td>\n",
       "      <td>44</td>\n",
       "    </tr>\n",
       "    <tr>\n",
       "      <th>4</th>\n",
       "      <td>5</td>\n",
       "      <td>17/01/11</td>\n",
       "      <td>8091</td>\n",
       "      <td>217390</td>\n",
       "      <td>141.0750</td>\n",
       "      <td>141.0750</td>\n",
       "      <td>0</td>\n",
       "      <td>0</td>\n",
       "      <td>52</td>\n",
       "    </tr>\n",
       "  </tbody>\n",
       "</table>\n",
       "</div>"
      ],
      "text/plain": [
       "   record_ID      date  store_id  sku_id  total_price  base_price  \\\n",
       "0          1  17/01/11      8091  216418      99.0375    111.8625   \n",
       "1          2  17/01/11      8091  216419      99.0375     99.0375   \n",
       "2          3  17/01/11      8091  216425     133.9500    133.9500   \n",
       "3          4  17/01/11      8091  216233     133.9500    133.9500   \n",
       "4          5  17/01/11      8091  217390     141.0750    141.0750   \n",
       "\n",
       "   is_featured_sku  is_display_sku  units_sold  \n",
       "0                0               0          20  \n",
       "1                0               0          28  \n",
       "2                0               0          19  \n",
       "3                0               0          44  \n",
       "4                0               0          52  "
      ]
     },
     "execution_count": 4,
     "metadata": {},
     "output_type": "execute_result"
    }
   ],
   "source": [
    "df_train.head()"
   ]
  },
  {
   "cell_type": "code",
   "execution_count": 5,
   "id": "79346673",
   "metadata": {},
   "outputs": [
    {
     "data": {
      "text/html": [
       "<div>\n",
       "<style scoped>\n",
       "    .dataframe tbody tr th:only-of-type {\n",
       "        vertical-align: middle;\n",
       "    }\n",
       "\n",
       "    .dataframe tbody tr th {\n",
       "        vertical-align: top;\n",
       "    }\n",
       "\n",
       "    .dataframe thead th {\n",
       "        text-align: right;\n",
       "    }\n",
       "</style>\n",
       "<table border=\"1\" class=\"dataframe\">\n",
       "  <thead>\n",
       "    <tr style=\"text-align: right;\">\n",
       "      <th></th>\n",
       "      <th>record_ID</th>\n",
       "      <th>date</th>\n",
       "      <th>store_id</th>\n",
       "      <th>sku_id</th>\n",
       "      <th>total_price</th>\n",
       "      <th>base_price</th>\n",
       "      <th>is_featured_sku</th>\n",
       "      <th>is_display_sku</th>\n",
       "    </tr>\n",
       "  </thead>\n",
       "  <tbody>\n",
       "    <tr>\n",
       "      <th>0</th>\n",
       "      <td>212645</td>\n",
       "      <td>16/07/13</td>\n",
       "      <td>8091</td>\n",
       "      <td>216418</td>\n",
       "      <td>108.3000</td>\n",
       "      <td>108.3000</td>\n",
       "      <td>0</td>\n",
       "      <td>0</td>\n",
       "    </tr>\n",
       "    <tr>\n",
       "      <th>1</th>\n",
       "      <td>212646</td>\n",
       "      <td>16/07/13</td>\n",
       "      <td>8091</td>\n",
       "      <td>216419</td>\n",
       "      <td>109.0125</td>\n",
       "      <td>109.0125</td>\n",
       "      <td>0</td>\n",
       "      <td>0</td>\n",
       "    </tr>\n",
       "    <tr>\n",
       "      <th>2</th>\n",
       "      <td>212647</td>\n",
       "      <td>16/07/13</td>\n",
       "      <td>8091</td>\n",
       "      <td>216425</td>\n",
       "      <td>133.9500</td>\n",
       "      <td>133.9500</td>\n",
       "      <td>0</td>\n",
       "      <td>0</td>\n",
       "    </tr>\n",
       "    <tr>\n",
       "      <th>3</th>\n",
       "      <td>212648</td>\n",
       "      <td>16/07/13</td>\n",
       "      <td>8091</td>\n",
       "      <td>216233</td>\n",
       "      <td>133.9500</td>\n",
       "      <td>133.9500</td>\n",
       "      <td>0</td>\n",
       "      <td>0</td>\n",
       "    </tr>\n",
       "    <tr>\n",
       "      <th>4</th>\n",
       "      <td>212649</td>\n",
       "      <td>16/07/13</td>\n",
       "      <td>8091</td>\n",
       "      <td>217390</td>\n",
       "      <td>176.7000</td>\n",
       "      <td>176.7000</td>\n",
       "      <td>0</td>\n",
       "      <td>0</td>\n",
       "    </tr>\n",
       "  </tbody>\n",
       "</table>\n",
       "</div>"
      ],
      "text/plain": [
       "   record_ID      date  store_id  sku_id  total_price  base_price  \\\n",
       "0     212645  16/07/13      8091  216418     108.3000    108.3000   \n",
       "1     212646  16/07/13      8091  216419     109.0125    109.0125   \n",
       "2     212647  16/07/13      8091  216425     133.9500    133.9500   \n",
       "3     212648  16/07/13      8091  216233     133.9500    133.9500   \n",
       "4     212649  16/07/13      8091  217390     176.7000    176.7000   \n",
       "\n",
       "   is_featured_sku  is_display_sku  \n",
       "0                0               0  \n",
       "1                0               0  \n",
       "2                0               0  \n",
       "3                0               0  \n",
       "4                0               0  "
      ]
     },
     "execution_count": 5,
     "metadata": {},
     "output_type": "execute_result"
    }
   ],
   "source": [
    "df_test.head()"
   ]
  },
  {
   "cell_type": "code",
   "execution_count": 6,
   "id": "1f875c76",
   "metadata": {},
   "outputs": [
    {
     "data": {
      "text/plain": [
       "((150150, 9), (13860, 8))"
      ]
     },
     "execution_count": 6,
     "metadata": {},
     "output_type": "execute_result"
    }
   ],
   "source": [
    "## Check dataframe dimensions\n",
    "df_train.shape,df_test.shape"
   ]
  },
  {
   "cell_type": "code",
   "execution_count": 7,
   "id": "ba50378e",
   "metadata": {},
   "outputs": [
    {
     "name": "stdout",
     "output_type": "stream",
     "text": [
      "<class 'pandas.core.frame.DataFrame'>\n",
      "RangeIndex: 150150 entries, 0 to 150149\n",
      "Data columns (total 9 columns):\n",
      " #   Column           Non-Null Count   Dtype  \n",
      "---  ------           --------------   -----  \n",
      " 0   record_ID        150150 non-null  int64  \n",
      " 1   date             150150 non-null  object \n",
      " 2   store_id         150150 non-null  int64  \n",
      " 3   sku_id           150150 non-null  int64  \n",
      " 4   total_price      150149 non-null  float64\n",
      " 5   base_price       150150 non-null  float64\n",
      " 6   is_featured_sku  150150 non-null  int64  \n",
      " 7   is_display_sku   150150 non-null  int64  \n",
      " 8   units_sold       150150 non-null  int64  \n",
      "dtypes: float64(2), int64(6), object(1)\n",
      "memory usage: 10.3+ MB\n"
     ]
    }
   ],
   "source": [
    "## Get a concise summary of a DataFrame.\n",
    "df_train.info()"
   ]
  },
  {
   "cell_type": "code",
   "execution_count": 8,
   "id": "632464fa",
   "metadata": {},
   "outputs": [],
   "source": [
    "# Change datatype from object to date \n",
    "df_train[\"date\"] = pd.to_datetime(df_train[\"date\"])\n",
    "\n",
    "# Change the datatype from int64 to categrical\n",
    "df_train[\"is_featured_sku\"] = df_train[\"is_featured_sku\"].astype(\"category\")\n",
    "df_train[\"is_display_sku\"] = df_train[\"is_display_sku\"].astype(\"category\")"
   ]
  },
  {
   "cell_type": "code",
   "execution_count": 9,
   "id": "f5448fb0",
   "metadata": {},
   "outputs": [
    {
     "name": "stdout",
     "output_type": "stream",
     "text": [
      "<class 'pandas.core.frame.DataFrame'>\n",
      "RangeIndex: 150150 entries, 0 to 150149\n",
      "Data columns (total 9 columns):\n",
      " #   Column           Non-Null Count   Dtype         \n",
      "---  ------           --------------   -----         \n",
      " 0   record_ID        150150 non-null  int64         \n",
      " 1   date             150150 non-null  datetime64[ns]\n",
      " 2   store_id         150150 non-null  int64         \n",
      " 3   sku_id           150150 non-null  int64         \n",
      " 4   total_price      150149 non-null  float64       \n",
      " 5   base_price       150150 non-null  float64       \n",
      " 6   is_featured_sku  150150 non-null  category      \n",
      " 7   is_display_sku   150150 non-null  category      \n",
      " 8   units_sold       150150 non-null  int64         \n",
      "dtypes: category(2), datetime64[ns](1), float64(2), int64(4)\n",
      "memory usage: 8.3 MB\n"
     ]
    }
   ],
   "source": [
    "df_train.info()"
   ]
  },
  {
   "cell_type": "code",
   "execution_count": 10,
   "id": "37f1e421",
   "metadata": {},
   "outputs": [
    {
     "data": {
      "text/html": [
       "<div>\n",
       "<style scoped>\n",
       "    .dataframe tbody tr th:only-of-type {\n",
       "        vertical-align: middle;\n",
       "    }\n",
       "\n",
       "    .dataframe tbody tr th {\n",
       "        vertical-align: top;\n",
       "    }\n",
       "\n",
       "    .dataframe thead th {\n",
       "        text-align: right;\n",
       "    }\n",
       "</style>\n",
       "<table border=\"1\" class=\"dataframe\">\n",
       "  <thead>\n",
       "    <tr style=\"text-align: right;\">\n",
       "      <th></th>\n",
       "      <th>record_ID</th>\n",
       "      <th>store_id</th>\n",
       "      <th>sku_id</th>\n",
       "      <th>total_price</th>\n",
       "      <th>base_price</th>\n",
       "      <th>units_sold</th>\n",
       "    </tr>\n",
       "  </thead>\n",
       "  <tbody>\n",
       "    <tr>\n",
       "      <th>count</th>\n",
       "      <td>150150.000000</td>\n",
       "      <td>150150.000000</td>\n",
       "      <td>150150.000000</td>\n",
       "      <td>150149.000000</td>\n",
       "      <td>150150.000000</td>\n",
       "      <td>150150.000000</td>\n",
       "    </tr>\n",
       "    <tr>\n",
       "      <th>mean</th>\n",
       "      <td>106271.555504</td>\n",
       "      <td>9199.422511</td>\n",
       "      <td>254761.132468</td>\n",
       "      <td>206.626751</td>\n",
       "      <td>219.425927</td>\n",
       "      <td>51.674206</td>\n",
       "    </tr>\n",
       "    <tr>\n",
       "      <th>std</th>\n",
       "      <td>61386.037861</td>\n",
       "      <td>615.591445</td>\n",
       "      <td>85547.306447</td>\n",
       "      <td>103.308516</td>\n",
       "      <td>110.961712</td>\n",
       "      <td>60.207904</td>\n",
       "    </tr>\n",
       "    <tr>\n",
       "      <th>min</th>\n",
       "      <td>1.000000</td>\n",
       "      <td>8023.000000</td>\n",
       "      <td>216233.000000</td>\n",
       "      <td>41.325000</td>\n",
       "      <td>61.275000</td>\n",
       "      <td>1.000000</td>\n",
       "    </tr>\n",
       "    <tr>\n",
       "      <th>25%</th>\n",
       "      <td>53111.250000</td>\n",
       "      <td>8562.000000</td>\n",
       "      <td>217217.000000</td>\n",
       "      <td>130.387500</td>\n",
       "      <td>133.237500</td>\n",
       "      <td>20.000000</td>\n",
       "    </tr>\n",
       "    <tr>\n",
       "      <th>50%</th>\n",
       "      <td>106226.500000</td>\n",
       "      <td>9371.000000</td>\n",
       "      <td>222087.000000</td>\n",
       "      <td>198.075000</td>\n",
       "      <td>205.912500</td>\n",
       "      <td>35.000000</td>\n",
       "    </tr>\n",
       "    <tr>\n",
       "      <th>75%</th>\n",
       "      <td>159452.750000</td>\n",
       "      <td>9731.000000</td>\n",
       "      <td>245338.000000</td>\n",
       "      <td>233.700000</td>\n",
       "      <td>234.412500</td>\n",
       "      <td>62.000000</td>\n",
       "    </tr>\n",
       "    <tr>\n",
       "      <th>max</th>\n",
       "      <td>212644.000000</td>\n",
       "      <td>9984.000000</td>\n",
       "      <td>679023.000000</td>\n",
       "      <td>562.162500</td>\n",
       "      <td>562.162500</td>\n",
       "      <td>2876.000000</td>\n",
       "    </tr>\n",
       "  </tbody>\n",
       "</table>\n",
       "</div>"
      ],
      "text/plain": [
       "           record_ID       store_id         sku_id    total_price  \\\n",
       "count  150150.000000  150150.000000  150150.000000  150149.000000   \n",
       "mean   106271.555504    9199.422511  254761.132468     206.626751   \n",
       "std     61386.037861     615.591445   85547.306447     103.308516   \n",
       "min         1.000000    8023.000000  216233.000000      41.325000   \n",
       "25%     53111.250000    8562.000000  217217.000000     130.387500   \n",
       "50%    106226.500000    9371.000000  222087.000000     198.075000   \n",
       "75%    159452.750000    9731.000000  245338.000000     233.700000   \n",
       "max    212644.000000    9984.000000  679023.000000     562.162500   \n",
       "\n",
       "          base_price     units_sold  \n",
       "count  150150.000000  150150.000000  \n",
       "mean      219.425927      51.674206  \n",
       "std       110.961712      60.207904  \n",
       "min        61.275000       1.000000  \n",
       "25%       133.237500      20.000000  \n",
       "50%       205.912500      35.000000  \n",
       "75%       234.412500      62.000000  \n",
       "max       562.162500    2876.000000  "
      ]
     },
     "execution_count": 10,
     "metadata": {},
     "output_type": "execute_result"
    }
   ],
   "source": [
    "## Generate descriptive statistics.\n",
    "df_train.describe()"
   ]
  },
  {
   "cell_type": "code",
   "execution_count": 11,
   "id": "ca0c372e",
   "metadata": {},
   "outputs": [
    {
     "data": {
      "text/html": [
       "<div>\n",
       "<style scoped>\n",
       "    .dataframe tbody tr th:only-of-type {\n",
       "        vertical-align: middle;\n",
       "    }\n",
       "\n",
       "    .dataframe tbody tr th {\n",
       "        vertical-align: top;\n",
       "    }\n",
       "\n",
       "    .dataframe thead th {\n",
       "        text-align: right;\n",
       "    }\n",
       "</style>\n",
       "<table border=\"1\" class=\"dataframe\">\n",
       "  <thead>\n",
       "    <tr style=\"text-align: right;\">\n",
       "      <th></th>\n",
       "      <th>is_featured_sku</th>\n",
       "      <th>is_display_sku</th>\n",
       "    </tr>\n",
       "  </thead>\n",
       "  <tbody>\n",
       "    <tr>\n",
       "      <th>count</th>\n",
       "      <td>150150</td>\n",
       "      <td>150150</td>\n",
       "    </tr>\n",
       "    <tr>\n",
       "      <th>unique</th>\n",
       "      <td>2</td>\n",
       "      <td>2</td>\n",
       "    </tr>\n",
       "    <tr>\n",
       "      <th>top</th>\n",
       "      <td>0</td>\n",
       "      <td>0</td>\n",
       "    </tr>\n",
       "    <tr>\n",
       "      <th>freq</th>\n",
       "      <td>135794</td>\n",
       "      <td>130150</td>\n",
       "    </tr>\n",
       "  </tbody>\n",
       "</table>\n",
       "</div>"
      ],
      "text/plain": [
       "        is_featured_sku  is_display_sku\n",
       "count            150150          150150\n",
       "unique                2               2\n",
       "top                   0               0\n",
       "freq             135794          130150"
      ]
     },
     "execution_count": 11,
     "metadata": {},
     "output_type": "execute_result"
    }
   ],
   "source": [
    "## Generate descriptive statistics for categorical data.\n",
    "df_train.describe(include='category')"
   ]
  },
  {
   "cell_type": "markdown",
   "id": "45b82e3e",
   "metadata": {},
   "source": [
    "## Missing Values"
   ]
  },
  {
   "cell_type": "code",
   "execution_count": 12,
   "id": "4251fad6",
   "metadata": {
    "scrolled": true
   },
   "outputs": [
    {
     "data": {
      "text/plain": [
       "record_ID          0\n",
       "date               0\n",
       "store_id           0\n",
       "sku_id             0\n",
       "total_price        1\n",
       "base_price         0\n",
       "is_featured_sku    0\n",
       "is_display_sku     0\n",
       "units_sold         0\n",
       "dtype: int64"
      ]
     },
     "execution_count": 12,
     "metadata": {},
     "output_type": "execute_result"
    }
   ],
   "source": [
    "df_train.isnull().sum()"
   ]
  },
  {
   "cell_type": "code",
   "execution_count": 13,
   "id": "a8fd9006",
   "metadata": {},
   "outputs": [],
   "source": [
    "# Drop null row as there is only one null value \n",
    "df_train.dropna(axis = 0,inplace=True)"
   ]
  },
  {
   "cell_type": "code",
   "execution_count": 14,
   "id": "e0dacba2",
   "metadata": {},
   "outputs": [
    {
     "data": {
      "text/plain": [
       "(150149, 9)"
      ]
     },
     "execution_count": 14,
     "metadata": {},
     "output_type": "execute_result"
    }
   ],
   "source": [
    "df_train.shape"
   ]
  },
  {
   "cell_type": "code",
   "execution_count": 15,
   "id": "b21b4153",
   "metadata": {},
   "outputs": [
    {
     "data": {
      "text/html": [
       "<div>\n",
       "<style scoped>\n",
       "    .dataframe tbody tr th:only-of-type {\n",
       "        vertical-align: middle;\n",
       "    }\n",
       "\n",
       "    .dataframe tbody tr th {\n",
       "        vertical-align: top;\n",
       "    }\n",
       "\n",
       "    .dataframe thead th {\n",
       "        text-align: right;\n",
       "    }\n",
       "</style>\n",
       "<table border=\"1\" class=\"dataframe\">\n",
       "  <thead>\n",
       "    <tr style=\"text-align: right;\">\n",
       "      <th></th>\n",
       "      <th>record_ID</th>\n",
       "      <th>date</th>\n",
       "      <th>store_id</th>\n",
       "      <th>sku_id</th>\n",
       "      <th>total_price</th>\n",
       "      <th>base_price</th>\n",
       "      <th>is_featured_sku</th>\n",
       "      <th>is_display_sku</th>\n",
       "      <th>units_sold</th>\n",
       "    </tr>\n",
       "  </thead>\n",
       "  <tbody>\n",
       "    <tr>\n",
       "      <th>0</th>\n",
       "      <td>1</td>\n",
       "      <td>2011-01-17</td>\n",
       "      <td>8091</td>\n",
       "      <td>216418</td>\n",
       "      <td>99.0375</td>\n",
       "      <td>111.8625</td>\n",
       "      <td>0</td>\n",
       "      <td>0</td>\n",
       "      <td>20</td>\n",
       "    </tr>\n",
       "    <tr>\n",
       "      <th>1</th>\n",
       "      <td>2</td>\n",
       "      <td>2011-01-17</td>\n",
       "      <td>8091</td>\n",
       "      <td>216419</td>\n",
       "      <td>99.0375</td>\n",
       "      <td>99.0375</td>\n",
       "      <td>0</td>\n",
       "      <td>0</td>\n",
       "      <td>28</td>\n",
       "    </tr>\n",
       "    <tr>\n",
       "      <th>2</th>\n",
       "      <td>3</td>\n",
       "      <td>2011-01-17</td>\n",
       "      <td>8091</td>\n",
       "      <td>216425</td>\n",
       "      <td>133.9500</td>\n",
       "      <td>133.9500</td>\n",
       "      <td>0</td>\n",
       "      <td>0</td>\n",
       "      <td>19</td>\n",
       "    </tr>\n",
       "    <tr>\n",
       "      <th>3</th>\n",
       "      <td>4</td>\n",
       "      <td>2011-01-17</td>\n",
       "      <td>8091</td>\n",
       "      <td>216233</td>\n",
       "      <td>133.9500</td>\n",
       "      <td>133.9500</td>\n",
       "      <td>0</td>\n",
       "      <td>0</td>\n",
       "      <td>44</td>\n",
       "    </tr>\n",
       "    <tr>\n",
       "      <th>4</th>\n",
       "      <td>5</td>\n",
       "      <td>2011-01-17</td>\n",
       "      <td>8091</td>\n",
       "      <td>217390</td>\n",
       "      <td>141.0750</td>\n",
       "      <td>141.0750</td>\n",
       "      <td>0</td>\n",
       "      <td>0</td>\n",
       "      <td>52</td>\n",
       "    </tr>\n",
       "    <tr>\n",
       "      <th>...</th>\n",
       "      <td>...</td>\n",
       "      <td>...</td>\n",
       "      <td>...</td>\n",
       "      <td>...</td>\n",
       "      <td>...</td>\n",
       "      <td>...</td>\n",
       "      <td>...</td>\n",
       "      <td>...</td>\n",
       "      <td>...</td>\n",
       "    </tr>\n",
       "    <tr>\n",
       "      <th>150145</th>\n",
       "      <td>212638</td>\n",
       "      <td>2013-09-07</td>\n",
       "      <td>9984</td>\n",
       "      <td>223245</td>\n",
       "      <td>235.8375</td>\n",
       "      <td>235.8375</td>\n",
       "      <td>0</td>\n",
       "      <td>0</td>\n",
       "      <td>38</td>\n",
       "    </tr>\n",
       "    <tr>\n",
       "      <th>150146</th>\n",
       "      <td>212639</td>\n",
       "      <td>2013-09-07</td>\n",
       "      <td>9984</td>\n",
       "      <td>223153</td>\n",
       "      <td>235.8375</td>\n",
       "      <td>235.8375</td>\n",
       "      <td>0</td>\n",
       "      <td>0</td>\n",
       "      <td>30</td>\n",
       "    </tr>\n",
       "    <tr>\n",
       "      <th>150147</th>\n",
       "      <td>212642</td>\n",
       "      <td>2013-09-07</td>\n",
       "      <td>9984</td>\n",
       "      <td>245338</td>\n",
       "      <td>357.6750</td>\n",
       "      <td>483.7875</td>\n",
       "      <td>1</td>\n",
       "      <td>1</td>\n",
       "      <td>31</td>\n",
       "    </tr>\n",
       "    <tr>\n",
       "      <th>150148</th>\n",
       "      <td>212643</td>\n",
       "      <td>2013-09-07</td>\n",
       "      <td>9984</td>\n",
       "      <td>547934</td>\n",
       "      <td>141.7875</td>\n",
       "      <td>191.6625</td>\n",
       "      <td>0</td>\n",
       "      <td>1</td>\n",
       "      <td>12</td>\n",
       "    </tr>\n",
       "    <tr>\n",
       "      <th>150149</th>\n",
       "      <td>212644</td>\n",
       "      <td>2013-09-07</td>\n",
       "      <td>9984</td>\n",
       "      <td>679023</td>\n",
       "      <td>234.4125</td>\n",
       "      <td>234.4125</td>\n",
       "      <td>0</td>\n",
       "      <td>0</td>\n",
       "      <td>15</td>\n",
       "    </tr>\n",
       "  </tbody>\n",
       "</table>\n",
       "<p>150149 rows × 9 columns</p>\n",
       "</div>"
      ],
      "text/plain": [
       "        record_ID       date  store_id  sku_id  total_price  base_price  \\\n",
       "0               1 2011-01-17      8091  216418      99.0375    111.8625   \n",
       "1               2 2011-01-17      8091  216419      99.0375     99.0375   \n",
       "2               3 2011-01-17      8091  216425     133.9500    133.9500   \n",
       "3               4 2011-01-17      8091  216233     133.9500    133.9500   \n",
       "4               5 2011-01-17      8091  217390     141.0750    141.0750   \n",
       "...           ...        ...       ...     ...          ...         ...   \n",
       "150145     212638 2013-09-07      9984  223245     235.8375    235.8375   \n",
       "150146     212639 2013-09-07      9984  223153     235.8375    235.8375   \n",
       "150147     212642 2013-09-07      9984  245338     357.6750    483.7875   \n",
       "150148     212643 2013-09-07      9984  547934     141.7875    191.6625   \n",
       "150149     212644 2013-09-07      9984  679023     234.4125    234.4125   \n",
       "\n",
       "       is_featured_sku is_display_sku  units_sold  \n",
       "0                    0              0          20  \n",
       "1                    0              0          28  \n",
       "2                    0              0          19  \n",
       "3                    0              0          44  \n",
       "4                    0              0          52  \n",
       "...                ...            ...         ...  \n",
       "150145               0              0          38  \n",
       "150146               0              0          30  \n",
       "150147               1              1          31  \n",
       "150148               0              1          12  \n",
       "150149               0              0          15  \n",
       "\n",
       "[150149 rows x 9 columns]"
      ]
     },
     "execution_count": 15,
     "metadata": {},
     "output_type": "execute_result"
    }
   ],
   "source": [
    "df_train"
   ]
  },
  {
   "cell_type": "code",
   "execution_count": 16,
   "id": "fbdb1ab2",
   "metadata": {},
   "outputs": [
    {
     "data": {
      "text/plain": [
       "<seaborn.axisgrid.PairGrid at 0x185a3b556a0>"
      ]
     },
     "execution_count": 16,
     "metadata": {},
     "output_type": "execute_result"
    },
    {
     "data": {
      "image/png": "[encoded data removed]",
      "text/plain": [
       "<Figure size 618.875x540 with 12 Axes>"
      ]
     },
     "metadata": {
      "needs_background": "light"
     },
     "output_type": "display_data"
    }
   ],
   "source": [
    "sns.pairplot(data=df_train,vars=[\"total_price\",\"base_price\",\"units_sold\"],hue=\"is_display_sku\")"
   ]
  },
  {
   "cell_type": "markdown",
   "id": "30d20459",
   "metadata": {},
   "source": [
    "Observation:\n",
    "1. base_price and total_price are highly positively correlated features so we have to drop one of them as it can impact performance of linear models (Multicollinearity).\n",
    "2. When total_price is low units_sold is high and it decreasing as total_price increases."
   ]
  },
  {
   "cell_type": "code",
   "execution_count": 17,
   "id": "0d918055",
   "metadata": {},
   "outputs": [
    {
     "data": {
      "text/plain": [
       "<AxesSubplot:xlabel='is_display_sku', ylabel='units_sold'>"
      ]
     },
     "execution_count": 17,
     "metadata": {},
     "output_type": "execute_result"
    },
    {
     "data": {
      "image/png": "[encoded data removed]",
      "text/plain": [
       "<Figure size 1080x432 with 2 Axes>"
      ]
     },
     "metadata": {
      "needs_background": "light"
     },
     "output_type": "display_data"
    }
   ],
   "source": [
    "plt.figure(figsize=(15,6))\n",
    "plt.subplot(1,2,1)\n",
    "sns.barplot(x = \"is_featured_sku\",y = \"units_sold\",data = df_train)\n",
    "plt.subplot(1,2,2)\n",
    "sns.barplot(x = \"is_display_sku\",y = \"units_sold\",data = df_train)"
   ]
  },
  {
   "cell_type": "code",
   "execution_count": 18,
   "id": "bf8b8410",
   "metadata": {},
   "outputs": [
    {
     "data": {
      "text/plain": [
       "is_featured_sku\n",
       "0     45.062654\n",
       "1    114.216216\n",
       "Name: units_sold, dtype: float64"
      ]
     },
     "execution_count": 18,
     "metadata": {},
     "output_type": "execute_result"
    }
   ],
   "source": [
    "df_train.groupby(\"is_featured_sku\")[\"units_sold\"].mean()"
   ]
  },
  {
   "cell_type": "code",
   "execution_count": 19,
   "id": "ecac8bdb",
   "metadata": {},
   "outputs": [
    {
     "data": {
      "text/plain": [
       "is_display_sku\n",
       "0     43.115045\n",
       "1    107.375050\n",
       "Name: units_sold, dtype: float64"
      ]
     },
     "execution_count": 19,
     "metadata": {},
     "output_type": "execute_result"
    }
   ],
   "source": [
    "df_train.groupby(\"is_display_sku\")[\"units_sold\"].mean()"
   ]
  },
  {
   "cell_type": "markdown",
   "id": "deb1b918",
   "metadata": {},
   "source": [
    "Observation:\n",
    "1. Units sold of those products which featured are more compare to non featured.\n",
    "2. If product was on display at a prominent place at the store then average units sold for that product is more compare to non display products."
   ]
  },
  {
   "cell_type": "code",
   "execution_count": 20,
   "id": "916c4d96",
   "metadata": {},
   "outputs": [
    {
     "data": {
      "image/png": "[encoded data removed]",
      "text/plain": [
       "<Figure size 1800x720 with 1 Axes>"
      ]
     },
     "metadata": {
      "needs_background": "light"
     },
     "output_type": "display_data"
    }
   ],
   "source": [
    "df1 = df_train.groupby('store_id').agg({'units_sold':'sum'}).sort_values(by=[\"units_sold\"],ascending=False)\n",
    "df2 = df_train.groupby('sku_id').agg({'units_sold':'sum'}).sort_values(by=[\"units_sold\"],ascending=False)\n",
    "\n",
    "plt.figure(figsize=(25,10))\n",
    "sns.barplot(x = df1.index, y = df1[\"units_sold\"], data = df1)\n",
    "plt.xticks(rotation = 45)\n",
    "plt.title('Store-ID vs Units Sold',fontsize=16)\n",
    "plt.show()"
   ]
  },
  {
   "cell_type": "code",
   "execution_count": 21,
   "id": "a7729d50",
   "metadata": {},
   "outputs": [
    {
     "data": {
      "image/png": "[encoded data removed]",
      "text/plain": [
       "<Figure size 1800x720 with 1 Axes>"
      ]
     },
     "metadata": {
      "needs_background": "light"
     },
     "output_type": "display_data"
    }
   ],
   "source": [
    "plt.figure(figsize=(25,10))\n",
    "sns.barplot(x = df2.index, y = df2[\"units_sold\"], data = df2)\n",
    "plt.xticks(rotation  = 45)\n",
    "plt.title('sku-ID vs Units Sold',fontsize=16)\n",
    "plt.show()"
   ]
  },
  {
   "cell_type": "markdown",
   "id": "2bc3158b",
   "metadata": {},
   "source": [
    "## Feature Analysis"
   ]
  },
  {
   "cell_type": "code",
   "execution_count": 22,
   "id": "3d6fe7f1",
   "metadata": {},
   "outputs": [
    {
     "data": {
      "text/plain": [
       "(150149, 9)"
      ]
     },
     "execution_count": 22,
     "metadata": {},
     "output_type": "execute_result"
    }
   ],
   "source": [
    "df_train.shape"
   ]
  },
  {
   "cell_type": "code",
   "execution_count": 23,
   "id": "0a201e9e",
   "metadata": {},
   "outputs": [
    {
     "data": {
      "text/plain": [
       "150149"
      ]
     },
     "execution_count": 23,
     "metadata": {},
     "output_type": "execute_result"
    }
   ],
   "source": [
    "# record_ID is just unique column better to drop it.\n",
    "df_train[\"record_ID\"].nunique()"
   ]
  },
  {
   "cell_type": "code",
   "execution_count": 24,
   "id": "c8fda450",
   "metadata": {},
   "outputs": [],
   "source": [
    "df_train.drop(columns=[\"record_ID\"],axis=1,inplace=True)"
   ]
  },
  {
   "cell_type": "code",
   "execution_count": 25,
   "id": "16298735",
   "metadata": {},
   "outputs": [
    {
     "data": {
      "text/plain": [
       "array([8091, 8095, 8094, 8063, 8023, 8058, 8222, 8121, 8218, 8317, 8319,\n",
       "       8392, 8398, 8400, 8422, 8438, 8555, 8562, 8869, 8991, 8911, 9001,\n",
       "       9043, 9092, 9112, 9132, 9147, 9164, 9178, 9190, 9221, 9250, 9273,\n",
       "       9279, 9281, 9328, 9371, 9442, 9430, 9439, 9425, 9432, 9436, 9456,\n",
       "       9479, 9481, 9490, 9498, 9532, 9578, 9672, 9611, 9613, 9632, 9680,\n",
       "       9700, 9713, 9731, 9745, 9770, 9789, 9813, 9823, 9837, 9809, 9845,\n",
       "       9872, 9876, 9879, 9880, 9881, 9890, 9909, 9954, 9961, 9984],\n",
       "      dtype=int64)"
      ]
     },
     "execution_count": 25,
     "metadata": {},
     "output_type": "execute_result"
    }
   ],
   "source": [
    "df_train[\"store_id\"].unique()"
   ]
  },
  {
   "cell_type": "code",
   "execution_count": 26,
   "id": "6a114a85",
   "metadata": {},
   "outputs": [
    {
     "data": {
      "text/plain": [
       "array([216418, 216419, 216425, 216233, 217390, 219009, 219029, 223245,\n",
       "       223153, 300021, 219844, 222087, 320485, 378934, 222765, 245387,\n",
       "       245338, 547934, 300291, 217217, 217777, 398721, 679023, 546789,\n",
       "       600934, 545621, 673209, 327492], dtype=int64)"
      ]
     },
     "execution_count": 26,
     "metadata": {},
     "output_type": "execute_result"
    }
   ],
   "source": [
    "df_train[\"sku_id\"].unique()"
   ]
  },
  {
   "cell_type": "code",
   "execution_count": 27,
   "id": "21e64ac2",
   "metadata": {},
   "outputs": [],
   "source": [
    "## Convert datatype of store_id & sku_id from 'int64' to 'category\n",
    "df_train[\"store_id\"] = df_train[\"store_id\"].astype(\"category\")\n",
    "df_train[\"sku_id\"] = df_train[\"sku_id\"].astype(\"category\")"
   ]
  },
  {
   "cell_type": "markdown",
   "id": "63a01d0d",
   "metadata": {},
   "source": [
    "## Outlier Treatment"
   ]
  },
  {
   "cell_type": "code",
   "execution_count": 28,
   "id": "18f7fc2c",
   "metadata": {},
   "outputs": [
    {
     "data": {
      "text/plain": [
       "Index(['total_price', 'base_price', 'units_sold'], dtype='object')"
      ]
     },
     "execution_count": 28,
     "metadata": {},
     "output_type": "execute_result"
    }
   ],
   "source": [
    "df_train.select_dtypes([\"int64\",\"float64\"]).columns"
   ]
  },
  {
   "cell_type": "code",
   "execution_count": 29,
   "id": "3af72877",
   "metadata": {},
   "outputs": [
    {
     "data": {
      "image/png": "[encoded data removed]",
      "text/plain": [
       "<Figure size 864x288 with 3 Axes>"
      ]
     },
     "metadata": {
      "needs_background": "light"
     },
     "output_type": "display_data"
    }
   ],
   "source": [
    "num_columns = ['total_price', 'base_price', 'units_sold']\n",
    "\n",
    "## Check for outliers for all numerical features using boxplot.\n",
    "plt.figure(figsize=(12,4))\n",
    "for feature, i in zip(num_columns,range(1,4)):\n",
    "    plt.subplot(1,3,i)\n",
    "    df_train.boxplot(column=feature)\n",
    "    plt.tight_layout() "
   ]
  },
  {
   "cell_type": "markdown",
   "id": "f4a203d4",
   "metadata": {},
   "source": [
    "### Percentile Method\n",
    "\n",
    "- Replace values above upper whisker with 95-98 percentile value by doing iteration for best value.\n",
    "- Replace values below lower whisker with 3-5 percentile value by doing iteration for best value."
   ]
  },
  {
   "cell_type": "markdown",
   "id": "df0b7114",
   "metadata": {},
   "source": [
    "### Handling upper whisker outliers"
   ]
  },
  {
   "cell_type": "code",
   "execution_count": 30,
   "id": "f07a65c7",
   "metadata": {},
   "outputs": [],
   "source": [
    "upper=['total_price', 'base_price','units_sold']\n",
    "\n",
    "for feature in upper:\n",
    "    p_95 = np.percentile(df_train[feature], 95)\n",
    "    df_train.loc[df_train[feature] > p_95, feature] = p_95"
   ]
  },
  {
   "cell_type": "code",
   "execution_count": 31,
   "id": "40634a02",
   "metadata": {},
   "outputs": [
    {
     "data": {
      "image/png": "[encoded data removed]",
      "text/plain": [
       "<Figure size 864x288 with 3 Axes>"
      ]
     },
     "metadata": {
      "needs_background": "light"
     },
     "output_type": "display_data"
    }
   ],
   "source": [
    "## Check after outlier treatment\n",
    "plt.figure(figsize=(12,4))\n",
    "for feature, i in zip(num_columns,range(1,4)):\n",
    "    plt.subplot(1,3,i)\n",
    "    df_train.boxplot(column=feature)\n",
    "    plt.tight_layout() "
   ]
  },
  {
   "cell_type": "markdown",
   "id": "b4e8ab98",
   "metadata": {},
   "source": [
    "Observation:\n",
    "- After outlier treatment using percentile method there is reduction in outliers in all features but still there are some outliers are present but we can proceed with that to analyze further."
   ]
  },
  {
   "cell_type": "markdown",
   "id": "53440352",
   "metadata": {},
   "source": [
    "## Multicollinearity"
   ]
  },
  {
   "cell_type": "code",
   "execution_count": 32,
   "id": "e6fdddcc",
   "metadata": {},
   "outputs": [
    {
     "data": {
      "text/html": [
       "<div>\n",
       "<style scoped>\n",
       "    .dataframe tbody tr th:only-of-type {\n",
       "        vertical-align: middle;\n",
       "    }\n",
       "\n",
       "    .dataframe tbody tr th {\n",
       "        vertical-align: top;\n",
       "    }\n",
       "\n",
       "    .dataframe thead th {\n",
       "        text-align: right;\n",
       "    }\n",
       "</style>\n",
       "<table border=\"1\" class=\"dataframe\">\n",
       "  <thead>\n",
       "    <tr style=\"text-align: right;\">\n",
       "      <th></th>\n",
       "      <th>total_price</th>\n",
       "      <th>base_price</th>\n",
       "      <th>units_sold</th>\n",
       "    </tr>\n",
       "  </thead>\n",
       "  <tbody>\n",
       "    <tr>\n",
       "      <th>total_price</th>\n",
       "      <td>1.000000</td>\n",
       "      <td>0.961549</td>\n",
       "      <td>-0.298492</td>\n",
       "    </tr>\n",
       "    <tr>\n",
       "      <th>base_price</th>\n",
       "      <td>0.961549</td>\n",
       "      <td>1.000000</td>\n",
       "      <td>-0.205876</td>\n",
       "    </tr>\n",
       "    <tr>\n",
       "      <th>units_sold</th>\n",
       "      <td>-0.298492</td>\n",
       "      <td>-0.205876</td>\n",
       "      <td>1.000000</td>\n",
       "    </tr>\n",
       "  </tbody>\n",
       "</table>\n",
       "</div>"
      ],
      "text/plain": [
       "             total_price  base_price  units_sold\n",
       "total_price     1.000000    0.961549   -0.298492\n",
       "base_price      0.961549    1.000000   -0.205876\n",
       "units_sold     -0.298492   -0.205876    1.000000"
      ]
     },
     "execution_count": 32,
     "metadata": {},
     "output_type": "execute_result"
    }
   ],
   "source": [
    "## Show the correlation between numericals features.\n",
    "df_train[[\"total_price\",\"base_price\",\"units_sold\"]].corr()"
   ]
  },
  {
   "cell_type": "code",
   "execution_count": 33,
   "id": "75eea6b2",
   "metadata": {},
   "outputs": [
    {
     "data": {
      "text/plain": [
       "<AxesSubplot:>"
      ]
     },
     "execution_count": 33,
     "metadata": {},
     "output_type": "execute_result"
    },
    {
     "data": {
      "image/png": "[encoded data removed]",
      "text/plain": [
       "<Figure size 720x360 with 2 Axes>"
      ]
     },
     "metadata": {
      "needs_background": "light"
     },
     "output_type": "display_data"
    }
   ],
   "source": [
    "plt.figure(figsize=(10,5))\n",
    "sns.heatmap(df_train[[\"total_price\",\"base_price\",\"units_sold\"]].corr(),annot=True)"
   ]
  },
  {
   "cell_type": "markdown",
   "id": "d60b8b30",
   "metadata": {},
   "source": [
    "### variance_inflation_factor"
   ]
  },
  {
   "cell_type": "markdown",
   "id": "853dbe45",
   "metadata": {},
   "source": [
    "- The variance inflation factor is a measure for the increase of the variance of the parameter estimates if an additional variable is added to the linear regression. \n",
    "- Among two features whichever having higher VIF value remove(ignore) that feature as its the reductant feature.\n",
    "- If VIF > 5, then the explanatory variable is highly collinear with the other explanatory variables, and the parameter estimates will have large standard errors because of this."
   ]
  },
  {
   "cell_type": "code",
   "execution_count": 34,
   "id": "cd6f92c5",
   "metadata": {},
   "outputs": [],
   "source": [
    "from statsmodels.stats.outliers_influence import variance_inflation_factor"
   ]
  },
  {
   "cell_type": "code",
   "execution_count": 35,
   "id": "cd28e6b5",
   "metadata": {},
   "outputs": [
    {
     "data": {
      "text/plain": [
       "array([[ 99.0375, 111.8625,  20.    ],\n",
       "       [ 99.0375,  99.0375,  28.    ],\n",
       "       [133.95  , 133.95  ,  19.    ],\n",
       "       ...,\n",
       "       [357.675 , 469.5375,  31.    ],\n",
       "       [141.7875, 191.6625,  12.    ],\n",
       "       [234.4125, 234.4125,  15.    ]])"
      ]
     },
     "execution_count": 35,
     "metadata": {},
     "output_type": "execute_result"
    }
   ],
   "source": [
    "df_num = df_train[['total_price', 'base_price','units_sold']].values\n",
    "df_num"
   ]
  },
  {
   "cell_type": "code",
   "execution_count": 36,
   "id": "2e541198",
   "metadata": {},
   "outputs": [
    {
     "data": {
      "text/html": [
       "<div>\n",
       "<style scoped>\n",
       "    .dataframe tbody tr th:only-of-type {\n",
       "        vertical-align: middle;\n",
       "    }\n",
       "\n",
       "    .dataframe tbody tr th {\n",
       "        vertical-align: top;\n",
       "    }\n",
       "\n",
       "    .dataframe thead th {\n",
       "        text-align: right;\n",
       "    }\n",
       "</style>\n",
       "<table border=\"1\" class=\"dataframe\">\n",
       "  <thead>\n",
       "    <tr style=\"text-align: right;\">\n",
       "      <th></th>\n",
       "      <th>variables</th>\n",
       "      <th>VIF</th>\n",
       "    </tr>\n",
       "  </thead>\n",
       "  <tbody>\n",
       "    <tr>\n",
       "      <th>0</th>\n",
       "      <td>total_price</td>\n",
       "      <td>70.064049</td>\n",
       "    </tr>\n",
       "    <tr>\n",
       "      <th>1</th>\n",
       "      <td>base_price</td>\n",
       "      <td>73.719891</td>\n",
       "    </tr>\n",
       "    <tr>\n",
       "      <th>2</th>\n",
       "      <td>units_sold</td>\n",
       "      <td>1.780139</td>\n",
       "    </tr>\n",
       "  </tbody>\n",
       "</table>\n",
       "</div>"
      ],
      "text/plain": [
       "     variables        VIF\n",
       "0  total_price  70.064049\n",
       "1   base_price  73.719891\n",
       "2   units_sold   1.780139"
      ]
     },
     "execution_count": 36,
     "metadata": {},
     "output_type": "execute_result"
    }
   ],
   "source": [
    "vif = pd.DataFrame()  ## Create empty dataframe\n",
    "vif[\"variables\"] = ['total_price', 'base_price','units_sold']\n",
    "vif[\"VIF\"] = [variance_inflation_factor(df_num, i) for i in range(3)]\n",
    "vif"
   ]
  },
  {
   "cell_type": "markdown",
   "id": "9fa99c10",
   "metadata": {},
   "source": [
    "Observation:\n",
    "- VIF(total_price) > VIF(base_price)\n",
    "- total_proce and base_price are highly correlated (96%) which means we have to drop feature having higher VIF value as both giving almost same information."
   ]
  },
  {
   "cell_type": "code",
   "execution_count": 37,
   "id": "5d652dd2",
   "metadata": {},
   "outputs": [],
   "source": [
    "df_train.drop(columns=[\"total_price\"],axis=1,inplace=True)"
   ]
  },
  {
   "cell_type": "markdown",
   "id": "42ddb55c",
   "metadata": {},
   "source": [
    "## Feature Engineering"
   ]
  },
  {
   "cell_type": "code",
   "execution_count": 38,
   "id": "bb342f02",
   "metadata": {},
   "outputs": [],
   "source": [
    "df_train[\"year\"] = df_train[\"date\"].dt.year\n",
    "df_train[\"month\"] = df_train[\"date\"].dt.month\n",
    "df_train[\"week\"] = df_train[\"date\"].dt.week\n",
    "df_train[\"day\"] = df_train[\"date\"].dt.day\n",
    "df_train[\"weekday\"] = df_train[\"date\"].dt.dayofweek # 0 - Monday & 6 - Sunday\n",
    "df_train[\"dayname\"] = df_train[\"date\"].dt.day_name()\n",
    "df_train['is_weekend'] = np.where(df_train['weekday'].isin([5,6]),1,0)"
   ]
  },
  {
   "cell_type": "code",
   "execution_count": 39,
   "id": "335505c2",
   "metadata": {},
   "outputs": [
    {
     "data": {
      "text/html": [
       "<div>\n",
       "<style scoped>\n",
       "    .dataframe tbody tr th:only-of-type {\n",
       "        vertical-align: middle;\n",
       "    }\n",
       "\n",
       "    .dataframe tbody tr th {\n",
       "        vertical-align: top;\n",
       "    }\n",
       "\n",
       "    .dataframe thead th {\n",
       "        text-align: right;\n",
       "    }\n",
       "</style>\n",
       "<table border=\"1\" class=\"dataframe\">\n",
       "  <thead>\n",
       "    <tr style=\"text-align: right;\">\n",
       "      <th></th>\n",
       "      <th>date</th>\n",
       "      <th>store_id</th>\n",
       "      <th>sku_id</th>\n",
       "      <th>base_price</th>\n",
       "      <th>is_featured_sku</th>\n",
       "      <th>is_display_sku</th>\n",
       "      <th>units_sold</th>\n",
       "      <th>year</th>\n",
       "      <th>month</th>\n",
       "      <th>week</th>\n",
       "      <th>day</th>\n",
       "      <th>weekday</th>\n",
       "      <th>dayname</th>\n",
       "      <th>is_weekend</th>\n",
       "    </tr>\n",
       "  </thead>\n",
       "  <tbody>\n",
       "    <tr>\n",
       "      <th>0</th>\n",
       "      <td>2011-01-17</td>\n",
       "      <td>8091</td>\n",
       "      <td>216418</td>\n",
       "      <td>111.8625</td>\n",
       "      <td>0</td>\n",
       "      <td>0</td>\n",
       "      <td>20</td>\n",
       "      <td>2011</td>\n",
       "      <td>1</td>\n",
       "      <td>3</td>\n",
       "      <td>17</td>\n",
       "      <td>0</td>\n",
       "      <td>Monday</td>\n",
       "      <td>0</td>\n",
       "    </tr>\n",
       "    <tr>\n",
       "      <th>1</th>\n",
       "      <td>2011-01-17</td>\n",
       "      <td>8091</td>\n",
       "      <td>216419</td>\n",
       "      <td>99.0375</td>\n",
       "      <td>0</td>\n",
       "      <td>0</td>\n",
       "      <td>28</td>\n",
       "      <td>2011</td>\n",
       "      <td>1</td>\n",
       "      <td>3</td>\n",
       "      <td>17</td>\n",
       "      <td>0</td>\n",
       "      <td>Monday</td>\n",
       "      <td>0</td>\n",
       "    </tr>\n",
       "    <tr>\n",
       "      <th>2</th>\n",
       "      <td>2011-01-17</td>\n",
       "      <td>8091</td>\n",
       "      <td>216425</td>\n",
       "      <td>133.9500</td>\n",
       "      <td>0</td>\n",
       "      <td>0</td>\n",
       "      <td>19</td>\n",
       "      <td>2011</td>\n",
       "      <td>1</td>\n",
       "      <td>3</td>\n",
       "      <td>17</td>\n",
       "      <td>0</td>\n",
       "      <td>Monday</td>\n",
       "      <td>0</td>\n",
       "    </tr>\n",
       "    <tr>\n",
       "      <th>3</th>\n",
       "      <td>2011-01-17</td>\n",
       "      <td>8091</td>\n",
       "      <td>216233</td>\n",
       "      <td>133.9500</td>\n",
       "      <td>0</td>\n",
       "      <td>0</td>\n",
       "      <td>44</td>\n",
       "      <td>2011</td>\n",
       "      <td>1</td>\n",
       "      <td>3</td>\n",
       "      <td>17</td>\n",
       "      <td>0</td>\n",
       "      <td>Monday</td>\n",
       "      <td>0</td>\n",
       "    </tr>\n",
       "    <tr>\n",
       "      <th>4</th>\n",
       "      <td>2011-01-17</td>\n",
       "      <td>8091</td>\n",
       "      <td>217390</td>\n",
       "      <td>141.0750</td>\n",
       "      <td>0</td>\n",
       "      <td>0</td>\n",
       "      <td>52</td>\n",
       "      <td>2011</td>\n",
       "      <td>1</td>\n",
       "      <td>3</td>\n",
       "      <td>17</td>\n",
       "      <td>0</td>\n",
       "      <td>Monday</td>\n",
       "      <td>0</td>\n",
       "    </tr>\n",
       "    <tr>\n",
       "      <th>...</th>\n",
       "      <td>...</td>\n",
       "      <td>...</td>\n",
       "      <td>...</td>\n",
       "      <td>...</td>\n",
       "      <td>...</td>\n",
       "      <td>...</td>\n",
       "      <td>...</td>\n",
       "      <td>...</td>\n",
       "      <td>...</td>\n",
       "      <td>...</td>\n",
       "      <td>...</td>\n",
       "      <td>...</td>\n",
       "      <td>...</td>\n",
       "      <td>...</td>\n",
       "    </tr>\n",
       "    <tr>\n",
       "      <th>150145</th>\n",
       "      <td>2013-09-07</td>\n",
       "      <td>9984</td>\n",
       "      <td>223245</td>\n",
       "      <td>235.8375</td>\n",
       "      <td>0</td>\n",
       "      <td>0</td>\n",
       "      <td>38</td>\n",
       "      <td>2013</td>\n",
       "      <td>9</td>\n",
       "      <td>36</td>\n",
       "      <td>7</td>\n",
       "      <td>5</td>\n",
       "      <td>Saturday</td>\n",
       "      <td>1</td>\n",
       "    </tr>\n",
       "    <tr>\n",
       "      <th>150146</th>\n",
       "      <td>2013-09-07</td>\n",
       "      <td>9984</td>\n",
       "      <td>223153</td>\n",
       "      <td>235.8375</td>\n",
       "      <td>0</td>\n",
       "      <td>0</td>\n",
       "      <td>30</td>\n",
       "      <td>2013</td>\n",
       "      <td>9</td>\n",
       "      <td>36</td>\n",
       "      <td>7</td>\n",
       "      <td>5</td>\n",
       "      <td>Saturday</td>\n",
       "      <td>1</td>\n",
       "    </tr>\n",
       "    <tr>\n",
       "      <th>150147</th>\n",
       "      <td>2013-09-07</td>\n",
       "      <td>9984</td>\n",
       "      <td>245338</td>\n",
       "      <td>469.5375</td>\n",
       "      <td>1</td>\n",
       "      <td>1</td>\n",
       "      <td>31</td>\n",
       "      <td>2013</td>\n",
       "      <td>9</td>\n",
       "      <td>36</td>\n",
       "      <td>7</td>\n",
       "      <td>5</td>\n",
       "      <td>Saturday</td>\n",
       "      <td>1</td>\n",
       "    </tr>\n",
       "    <tr>\n",
       "      <th>150148</th>\n",
       "      <td>2013-09-07</td>\n",
       "      <td>9984</td>\n",
       "      <td>547934</td>\n",
       "      <td>191.6625</td>\n",
       "      <td>0</td>\n",
       "      <td>1</td>\n",
       "      <td>12</td>\n",
       "      <td>2013</td>\n",
       "      <td>9</td>\n",
       "      <td>36</td>\n",
       "      <td>7</td>\n",
       "      <td>5</td>\n",
       "      <td>Saturday</td>\n",
       "      <td>1</td>\n",
       "    </tr>\n",
       "    <tr>\n",
       "      <th>150149</th>\n",
       "      <td>2013-09-07</td>\n",
       "      <td>9984</td>\n",
       "      <td>679023</td>\n",
       "      <td>234.4125</td>\n",
       "      <td>0</td>\n",
       "      <td>0</td>\n",
       "      <td>15</td>\n",
       "      <td>2013</td>\n",
       "      <td>9</td>\n",
       "      <td>36</td>\n",
       "      <td>7</td>\n",
       "      <td>5</td>\n",
       "      <td>Saturday</td>\n",
       "      <td>1</td>\n",
       "    </tr>\n",
       "  </tbody>\n",
       "</table>\n",
       "<p>150149 rows × 14 columns</p>\n",
       "</div>"
      ],
      "text/plain": [
       "             date store_id  sku_id  base_price is_featured_sku is_display_sku  \\\n",
       "0      2011-01-17     8091  216418    111.8625               0              0   \n",
       "1      2011-01-17     8091  216419     99.0375               0              0   \n",
       "2      2011-01-17     8091  216425    133.9500               0              0   \n",
       "3      2011-01-17     8091  216233    133.9500               0              0   \n",
       "4      2011-01-17     8091  217390    141.0750               0              0   \n",
       "...           ...      ...     ...         ...             ...            ...   \n",
       "150145 2013-09-07     9984  223245    235.8375               0              0   \n",
       "150146 2013-09-07     9984  223153    235.8375               0              0   \n",
       "150147 2013-09-07     9984  245338    469.5375               1              1   \n",
       "150148 2013-09-07     9984  547934    191.6625               0              1   \n",
       "150149 2013-09-07     9984  679023    234.4125               0              0   \n",
       "\n",
       "        units_sold  year  month  week  day  weekday   dayname  is_weekend  \n",
       "0               20  2011      1     3   17        0    Monday           0  \n",
       "1               28  2011      1     3   17        0    Monday           0  \n",
       "2               19  2011      1     3   17        0    Monday           0  \n",
       "3               44  2011      1     3   17        0    Monday           0  \n",
       "4               52  2011      1     3   17        0    Monday           0  \n",
       "...            ...   ...    ...   ...  ...      ...       ...         ...  \n",
       "150145          38  2013      9    36    7        5  Saturday           1  \n",
       "150146          30  2013      9    36    7        5  Saturday           1  \n",
       "150147          31  2013      9    36    7        5  Saturday           1  \n",
       "150148          12  2013      9    36    7        5  Saturday           1  \n",
       "150149          15  2013      9    36    7        5  Saturday           1  \n",
       "\n",
       "[150149 rows x 14 columns]"
      ]
     },
     "execution_count": 39,
     "metadata": {},
     "output_type": "execute_result"
    }
   ],
   "source": [
    "df_train"
   ]
  },
  {
   "cell_type": "code",
   "execution_count": 40,
   "id": "80fba634",
   "metadata": {},
   "outputs": [
    {
     "name": "stdout",
     "output_type": "stream",
     "text": [
      "<class 'pandas.core.frame.DataFrame'>\n",
      "Int64Index: 150149 entries, 0 to 150149\n",
      "Data columns (total 14 columns):\n",
      " #   Column           Non-Null Count   Dtype         \n",
      "---  ------           --------------   -----         \n",
      " 0   date             150149 non-null  datetime64[ns]\n",
      " 1   store_id         150149 non-null  category      \n",
      " 2   sku_id           150149 non-null  category      \n",
      " 3   base_price       150149 non-null  float64       \n",
      " 4   is_featured_sku  150149 non-null  category      \n",
      " 5   is_display_sku   150149 non-null  category      \n",
      " 6   units_sold       150149 non-null  int64         \n",
      " 7   year             150149 non-null  int64         \n",
      " 8   month            150149 non-null  int64         \n",
      " 9   week             150149 non-null  int64         \n",
      " 10  day              150149 non-null  int64         \n",
      " 11  weekday          150149 non-null  int64         \n",
      " 12  dayname          150149 non-null  object        \n",
      " 13  is_weekend       150149 non-null  int32         \n",
      "dtypes: category(4), datetime64[ns](1), float64(1), int32(1), int64(6), object(1)\n",
      "memory usage: 16.6+ MB\n"
     ]
    }
   ],
   "source": [
    "df_train.info()"
   ]
  },
  {
   "cell_type": "code",
   "execution_count": 41,
   "id": "ad731dbc",
   "metadata": {},
   "outputs": [
    {
     "data": {
      "image/png": "[encoded data removed]",
      "text/plain": [
       "<Figure size 1080x360 with 2 Axes>"
      ]
     },
     "metadata": {
      "needs_background": "light"
     },
     "output_type": "display_data"
    }
   ],
   "source": [
    "plt.figure(figsize=(15,5))\n",
    "plt.subplot(1,2,1)\n",
    "sns.lineplot(x = 'year',y = \"units_sold\",hue='is_display_sku',data=df_train)\n",
    "plt.xticks(rotation = 45)\n",
    "\n",
    "plt.subplot(1,2,2)\n",
    "sns.lineplot(x = 'month',y = \"units_sold\",hue='is_display_sku',data=df_train)\n",
    "plt.xticks(rotation = 45)\n",
    "\n",
    "plt.tight_layout()"
   ]
  },
  {
   "cell_type": "markdown",
   "id": "b0c34e19",
   "metadata": {},
   "source": [
    "Observation:\n",
    "1. There has been decline in sales of sku products from 2011 to 2013 for products display at stores while sales for non display sku products is almost stagnant.\n",
    "2. We can see zigazag (increase then decrease ) trend for monthwise sales for sku products."
   ]
  },
  {
   "cell_type": "code",
   "execution_count": 42,
   "id": "0b33f700",
   "metadata": {},
   "outputs": [
    {
     "data": {
      "text/plain": [
       "dayname\n",
       "Thursday     48.561645\n",
       "Monday       48.206371\n",
       "Sunday       47.832777\n",
       "Tuesday      46.197024\n",
       "Friday       44.704762\n",
       "Saturday     44.481014\n",
       "Wednesday    43.161039\n",
       "Name: units_sold, dtype: float64"
      ]
     },
     "execution_count": 42,
     "metadata": {},
     "output_type": "execute_result"
    }
   ],
   "source": [
    "df_train.groupby(\"dayname\")[\"units_sold\"].mean().sort_values(ascending=False)"
   ]
  },
  {
   "cell_type": "code",
   "execution_count": 43,
   "id": "c89c0f3d",
   "metadata": {},
   "outputs": [
    {
     "data": {
      "text/plain": [
       "Text(0.5, 1.0, 'Weekday vs Units sold')"
      ]
     },
     "execution_count": 43,
     "metadata": {},
     "output_type": "execute_result"
    },
    {
     "data": {
      "image/png": "[encoded data removed]",
      "text/plain": [
       "<Figure size 864x432 with 1 Axes>"
      ]
     },
     "metadata": {
      "needs_background": "light"
     },
     "output_type": "display_data"
    }
   ],
   "source": [
    "plt.figure(figsize=(12,6))\n",
    "sns.barplot(x = \"dayname\",y = \"units_sold\",data = df_train)\n",
    "plt.title(\"Weekday vs Units sold\")"
   ]
  },
  {
   "cell_type": "markdown",
   "id": "7303198f",
   "metadata": {},
   "source": [
    "Observation:\n",
    "- Average sales of sku products is max on thursday followed by monday then sunday while lowest for wednesday."
   ]
  },
  {
   "cell_type": "markdown",
   "id": "89617d91",
   "metadata": {},
   "source": [
    "## Feature Distribution"
   ]
  },
  {
   "cell_type": "code",
   "execution_count": 44,
   "id": "fa02a845",
   "metadata": {},
   "outputs": [
    {
     "data": {
      "image/png": "[encoded data removed]",
      "text/plain": [
       "<Figure size 864x360 with 2 Axes>"
      ]
     },
     "metadata": {
      "needs_background": "light"
     },
     "output_type": "display_data"
    }
   ],
   "source": [
    "plt.figure(figsize=(12,5))\n",
    "for feature,i in zip([\"base_price\",\"units_sold\"],range(1,3)):\n",
    "    plt.subplot(1,2,i)\n",
    "    sns.distplot(df_train[feature],kde=True)\n",
    "    plt.tight_layout()"
   ]
  },
  {
   "cell_type": "markdown",
   "id": "1d8d6497",
   "metadata": {},
   "source": [
    "## Data Preprocessing (Encoding)"
   ]
  },
  {
   "cell_type": "code",
   "execution_count": 45,
   "id": "124aa17d",
   "metadata": {},
   "outputs": [
    {
     "data": {
      "text/html": [
       "<div>\n",
       "<style scoped>\n",
       "    .dataframe tbody tr th:only-of-type {\n",
       "        vertical-align: middle;\n",
       "    }\n",
       "\n",
       "    .dataframe tbody tr th {\n",
       "        vertical-align: top;\n",
       "    }\n",
       "\n",
       "    .dataframe thead th {\n",
       "        text-align: right;\n",
       "    }\n",
       "</style>\n",
       "<table border=\"1\" class=\"dataframe\">\n",
       "  <thead>\n",
       "    <tr style=\"text-align: right;\">\n",
       "      <th></th>\n",
       "      <th>date</th>\n",
       "      <th>store_id</th>\n",
       "      <th>sku_id</th>\n",
       "      <th>base_price</th>\n",
       "      <th>is_featured_sku</th>\n",
       "      <th>is_display_sku</th>\n",
       "      <th>units_sold</th>\n",
       "      <th>year</th>\n",
       "      <th>month</th>\n",
       "      <th>week</th>\n",
       "      <th>day</th>\n",
       "      <th>weekday</th>\n",
       "      <th>dayname</th>\n",
       "      <th>is_weekend</th>\n",
       "    </tr>\n",
       "  </thead>\n",
       "  <tbody>\n",
       "    <tr>\n",
       "      <th>0</th>\n",
       "      <td>2011-01-17</td>\n",
       "      <td>8091</td>\n",
       "      <td>216418</td>\n",
       "      <td>111.8625</td>\n",
       "      <td>0</td>\n",
       "      <td>0</td>\n",
       "      <td>20</td>\n",
       "      <td>2011</td>\n",
       "      <td>1</td>\n",
       "      <td>3</td>\n",
       "      <td>17</td>\n",
       "      <td>0</td>\n",
       "      <td>Monday</td>\n",
       "      <td>0</td>\n",
       "    </tr>\n",
       "    <tr>\n",
       "      <th>1</th>\n",
       "      <td>2011-01-17</td>\n",
       "      <td>8091</td>\n",
       "      <td>216419</td>\n",
       "      <td>99.0375</td>\n",
       "      <td>0</td>\n",
       "      <td>0</td>\n",
       "      <td>28</td>\n",
       "      <td>2011</td>\n",
       "      <td>1</td>\n",
       "      <td>3</td>\n",
       "      <td>17</td>\n",
       "      <td>0</td>\n",
       "      <td>Monday</td>\n",
       "      <td>0</td>\n",
       "    </tr>\n",
       "    <tr>\n",
       "      <th>2</th>\n",
       "      <td>2011-01-17</td>\n",
       "      <td>8091</td>\n",
       "      <td>216425</td>\n",
       "      <td>133.9500</td>\n",
       "      <td>0</td>\n",
       "      <td>0</td>\n",
       "      <td>19</td>\n",
       "      <td>2011</td>\n",
       "      <td>1</td>\n",
       "      <td>3</td>\n",
       "      <td>17</td>\n",
       "      <td>0</td>\n",
       "      <td>Monday</td>\n",
       "      <td>0</td>\n",
       "    </tr>\n",
       "    <tr>\n",
       "      <th>3</th>\n",
       "      <td>2011-01-17</td>\n",
       "      <td>8091</td>\n",
       "      <td>216233</td>\n",
       "      <td>133.9500</td>\n",
       "      <td>0</td>\n",
       "      <td>0</td>\n",
       "      <td>44</td>\n",
       "      <td>2011</td>\n",
       "      <td>1</td>\n",
       "      <td>3</td>\n",
       "      <td>17</td>\n",
       "      <td>0</td>\n",
       "      <td>Monday</td>\n",
       "      <td>0</td>\n",
       "    </tr>\n",
       "    <tr>\n",
       "      <th>4</th>\n",
       "      <td>2011-01-17</td>\n",
       "      <td>8091</td>\n",
       "      <td>217390</td>\n",
       "      <td>141.0750</td>\n",
       "      <td>0</td>\n",
       "      <td>0</td>\n",
       "      <td>52</td>\n",
       "      <td>2011</td>\n",
       "      <td>1</td>\n",
       "      <td>3</td>\n",
       "      <td>17</td>\n",
       "      <td>0</td>\n",
       "      <td>Monday</td>\n",
       "      <td>0</td>\n",
       "    </tr>\n",
       "    <tr>\n",
       "      <th>...</th>\n",
       "      <td>...</td>\n",
       "      <td>...</td>\n",
       "      <td>...</td>\n",
       "      <td>...</td>\n",
       "      <td>...</td>\n",
       "      <td>...</td>\n",
       "      <td>...</td>\n",
       "      <td>...</td>\n",
       "      <td>...</td>\n",
       "      <td>...</td>\n",
       "      <td>...</td>\n",
       "      <td>...</td>\n",
       "      <td>...</td>\n",
       "      <td>...</td>\n",
       "    </tr>\n",
       "    <tr>\n",
       "      <th>150145</th>\n",
       "      <td>2013-09-07</td>\n",
       "      <td>9984</td>\n",
       "      <td>223245</td>\n",
       "      <td>235.8375</td>\n",
       "      <td>0</td>\n",
       "      <td>0</td>\n",
       "      <td>38</td>\n",
       "      <td>2013</td>\n",
       "      <td>9</td>\n",
       "      <td>36</td>\n",
       "      <td>7</td>\n",
       "      <td>5</td>\n",
       "      <td>Saturday</td>\n",
       "      <td>1</td>\n",
       "    </tr>\n",
       "    <tr>\n",
       "      <th>150146</th>\n",
       "      <td>2013-09-07</td>\n",
       "      <td>9984</td>\n",
       "      <td>223153</td>\n",
       "      <td>235.8375</td>\n",
       "      <td>0</td>\n",
       "      <td>0</td>\n",
       "      <td>30</td>\n",
       "      <td>2013</td>\n",
       "      <td>9</td>\n",
       "      <td>36</td>\n",
       "      <td>7</td>\n",
       "      <td>5</td>\n",
       "      <td>Saturday</td>\n",
       "      <td>1</td>\n",
       "    </tr>\n",
       "    <tr>\n",
       "      <th>150147</th>\n",
       "      <td>2013-09-07</td>\n",
       "      <td>9984</td>\n",
       "      <td>245338</td>\n",
       "      <td>469.5375</td>\n",
       "      <td>1</td>\n",
       "      <td>1</td>\n",
       "      <td>31</td>\n",
       "      <td>2013</td>\n",
       "      <td>9</td>\n",
       "      <td>36</td>\n",
       "      <td>7</td>\n",
       "      <td>5</td>\n",
       "      <td>Saturday</td>\n",
       "      <td>1</td>\n",
       "    </tr>\n",
       "    <tr>\n",
       "      <th>150148</th>\n",
       "      <td>2013-09-07</td>\n",
       "      <td>9984</td>\n",
       "      <td>547934</td>\n",
       "      <td>191.6625</td>\n",
       "      <td>0</td>\n",
       "      <td>1</td>\n",
       "      <td>12</td>\n",
       "      <td>2013</td>\n",
       "      <td>9</td>\n",
       "      <td>36</td>\n",
       "      <td>7</td>\n",
       "      <td>5</td>\n",
       "      <td>Saturday</td>\n",
       "      <td>1</td>\n",
       "    </tr>\n",
       "    <tr>\n",
       "      <th>150149</th>\n",
       "      <td>2013-09-07</td>\n",
       "      <td>9984</td>\n",
       "      <td>679023</td>\n",
       "      <td>234.4125</td>\n",
       "      <td>0</td>\n",
       "      <td>0</td>\n",
       "      <td>15</td>\n",
       "      <td>2013</td>\n",
       "      <td>9</td>\n",
       "      <td>36</td>\n",
       "      <td>7</td>\n",
       "      <td>5</td>\n",
       "      <td>Saturday</td>\n",
       "      <td>1</td>\n",
       "    </tr>\n",
       "  </tbody>\n",
       "</table>\n",
       "<p>150149 rows × 14 columns</p>\n",
       "</div>"
      ],
      "text/plain": [
       "             date store_id  sku_id  base_price is_featured_sku is_display_sku  \\\n",
       "0      2011-01-17     8091  216418    111.8625               0              0   \n",
       "1      2011-01-17     8091  216419     99.0375               0              0   \n",
       "2      2011-01-17     8091  216425    133.9500               0              0   \n",
       "3      2011-01-17     8091  216233    133.9500               0              0   \n",
       "4      2011-01-17     8091  217390    141.0750               0              0   \n",
       "...           ...      ...     ...         ...             ...            ...   \n",
       "150145 2013-09-07     9984  223245    235.8375               0              0   \n",
       "150146 2013-09-07     9984  223153    235.8375               0              0   \n",
       "150147 2013-09-07     9984  245338    469.5375               1              1   \n",
       "150148 2013-09-07     9984  547934    191.6625               0              1   \n",
       "150149 2013-09-07     9984  679023    234.4125               0              0   \n",
       "\n",
       "        units_sold  year  month  week  day  weekday   dayname  is_weekend  \n",
       "0               20  2011      1     3   17        0    Monday           0  \n",
       "1               28  2011      1     3   17        0    Monday           0  \n",
       "2               19  2011      1     3   17        0    Monday           0  \n",
       "3               44  2011      1     3   17        0    Monday           0  \n",
       "4               52  2011      1     3   17        0    Monday           0  \n",
       "...            ...   ...    ...   ...  ...      ...       ...         ...  \n",
       "150145          38  2013      9    36    7        5  Saturday           1  \n",
       "150146          30  2013      9    36    7        5  Saturday           1  \n",
       "150147          31  2013      9    36    7        5  Saturday           1  \n",
       "150148          12  2013      9    36    7        5  Saturday           1  \n",
       "150149          15  2013      9    36    7        5  Saturday           1  \n",
       "\n",
       "[150149 rows x 14 columns]"
      ]
     },
     "execution_count": 45,
     "metadata": {},
     "output_type": "execute_result"
    }
   ],
   "source": [
    "df_train"
   ]
  },
  {
   "cell_type": "code",
   "execution_count": 46,
   "id": "59eab62a",
   "metadata": {},
   "outputs": [],
   "source": [
    "## One Hot Encoding of categorical columns\n",
    "df_final = pd.get_dummies(data=df_train,columns=[\"store_id\",\"sku_id\"],drop_first=True)"
   ]
  },
  {
   "cell_type": "markdown",
   "id": "46b5eee6",
   "metadata": {},
   "source": [
    "# Linear Regression Model Building"
   ]
  },
  {
   "cell_type": "code",
   "execution_count": 47,
   "id": "909d91db",
   "metadata": {
    "scrolled": true
   },
   "outputs": [
    {
     "data": {
      "text/html": [
       "<div>\n",
       "<style scoped>\n",
       "    .dataframe tbody tr th:only-of-type {\n",
       "        vertical-align: middle;\n",
       "    }\n",
       "\n",
       "    .dataframe tbody tr th {\n",
       "        vertical-align: top;\n",
       "    }\n",
       "\n",
       "    .dataframe thead th {\n",
       "        text-align: right;\n",
       "    }\n",
       "</style>\n",
       "<table border=\"1\" class=\"dataframe\">\n",
       "  <thead>\n",
       "    <tr style=\"text-align: right;\">\n",
       "      <th></th>\n",
       "      <th>date</th>\n",
       "      <th>base_price</th>\n",
       "      <th>is_featured_sku</th>\n",
       "      <th>is_display_sku</th>\n",
       "      <th>units_sold</th>\n",
       "      <th>year</th>\n",
       "      <th>month</th>\n",
       "      <th>week</th>\n",
       "      <th>day</th>\n",
       "      <th>weekday</th>\n",
       "      <th>...</th>\n",
       "      <th>sku_id_320485</th>\n",
       "      <th>sku_id_327492</th>\n",
       "      <th>sku_id_378934</th>\n",
       "      <th>sku_id_398721</th>\n",
       "      <th>sku_id_545621</th>\n",
       "      <th>sku_id_546789</th>\n",
       "      <th>sku_id_547934</th>\n",
       "      <th>sku_id_600934</th>\n",
       "      <th>sku_id_673209</th>\n",
       "      <th>sku_id_679023</th>\n",
       "    </tr>\n",
       "  </thead>\n",
       "  <tbody>\n",
       "    <tr>\n",
       "      <th>0</th>\n",
       "      <td>2011-01-17</td>\n",
       "      <td>111.8625</td>\n",
       "      <td>0</td>\n",
       "      <td>0</td>\n",
       "      <td>20</td>\n",
       "      <td>2011</td>\n",
       "      <td>1</td>\n",
       "      <td>3</td>\n",
       "      <td>17</td>\n",
       "      <td>0</td>\n",
       "      <td>...</td>\n",
       "      <td>0</td>\n",
       "      <td>0</td>\n",
       "      <td>0</td>\n",
       "      <td>0</td>\n",
       "      <td>0</td>\n",
       "      <td>0</td>\n",
       "      <td>0</td>\n",
       "      <td>0</td>\n",
       "      <td>0</td>\n",
       "      <td>0</td>\n",
       "    </tr>\n",
       "    <tr>\n",
       "      <th>1</th>\n",
       "      <td>2011-01-17</td>\n",
       "      <td>99.0375</td>\n",
       "      <td>0</td>\n",
       "      <td>0</td>\n",
       "      <td>28</td>\n",
       "      <td>2011</td>\n",
       "      <td>1</td>\n",
       "      <td>3</td>\n",
       "      <td>17</td>\n",
       "      <td>0</td>\n",
       "      <td>...</td>\n",
       "      <td>0</td>\n",
       "      <td>0</td>\n",
       "      <td>0</td>\n",
       "      <td>0</td>\n",
       "      <td>0</td>\n",
       "      <td>0</td>\n",
       "      <td>0</td>\n",
       "      <td>0</td>\n",
       "      <td>0</td>\n",
       "      <td>0</td>\n",
       "    </tr>\n",
       "    <tr>\n",
       "      <th>2</th>\n",
       "      <td>2011-01-17</td>\n",
       "      <td>133.9500</td>\n",
       "      <td>0</td>\n",
       "      <td>0</td>\n",
       "      <td>19</td>\n",
       "      <td>2011</td>\n",
       "      <td>1</td>\n",
       "      <td>3</td>\n",
       "      <td>17</td>\n",
       "      <td>0</td>\n",
       "      <td>...</td>\n",
       "      <td>0</td>\n",
       "      <td>0</td>\n",
       "      <td>0</td>\n",
       "      <td>0</td>\n",
       "      <td>0</td>\n",
       "      <td>0</td>\n",
       "      <td>0</td>\n",
       "      <td>0</td>\n",
       "      <td>0</td>\n",
       "      <td>0</td>\n",
       "    </tr>\n",
       "    <tr>\n",
       "      <th>3</th>\n",
       "      <td>2011-01-17</td>\n",
       "      <td>133.9500</td>\n",
       "      <td>0</td>\n",
       "      <td>0</td>\n",
       "      <td>44</td>\n",
       "      <td>2011</td>\n",
       "      <td>1</td>\n",
       "      <td>3</td>\n",
       "      <td>17</td>\n",
       "      <td>0</td>\n",
       "      <td>...</td>\n",
       "      <td>0</td>\n",
       "      <td>0</td>\n",
       "      <td>0</td>\n",
       "      <td>0</td>\n",
       "      <td>0</td>\n",
       "      <td>0</td>\n",
       "      <td>0</td>\n",
       "      <td>0</td>\n",
       "      <td>0</td>\n",
       "      <td>0</td>\n",
       "    </tr>\n",
       "    <tr>\n",
       "      <th>4</th>\n",
       "      <td>2011-01-17</td>\n",
       "      <td>141.0750</td>\n",
       "      <td>0</td>\n",
       "      <td>0</td>\n",
       "      <td>52</td>\n",
       "      <td>2011</td>\n",
       "      <td>1</td>\n",
       "      <td>3</td>\n",
       "      <td>17</td>\n",
       "      <td>0</td>\n",
       "      <td>...</td>\n",
       "      <td>0</td>\n",
       "      <td>0</td>\n",
       "      <td>0</td>\n",
       "      <td>0</td>\n",
       "      <td>0</td>\n",
       "      <td>0</td>\n",
       "      <td>0</td>\n",
       "      <td>0</td>\n",
       "      <td>0</td>\n",
       "      <td>0</td>\n",
       "    </tr>\n",
       "    <tr>\n",
       "      <th>...</th>\n",
       "      <td>...</td>\n",
       "      <td>...</td>\n",
       "      <td>...</td>\n",
       "      <td>...</td>\n",
       "      <td>...</td>\n",
       "      <td>...</td>\n",
       "      <td>...</td>\n",
       "      <td>...</td>\n",
       "      <td>...</td>\n",
       "      <td>...</td>\n",
       "      <td>...</td>\n",
       "      <td>...</td>\n",
       "      <td>...</td>\n",
       "      <td>...</td>\n",
       "      <td>...</td>\n",
       "      <td>...</td>\n",
       "      <td>...</td>\n",
       "      <td>...</td>\n",
       "      <td>...</td>\n",
       "      <td>...</td>\n",
       "      <td>...</td>\n",
       "    </tr>\n",
       "    <tr>\n",
       "      <th>150145</th>\n",
       "      <td>2013-09-07</td>\n",
       "      <td>235.8375</td>\n",
       "      <td>0</td>\n",
       "      <td>0</td>\n",
       "      <td>38</td>\n",
       "      <td>2013</td>\n",
       "      <td>9</td>\n",
       "      <td>36</td>\n",
       "      <td>7</td>\n",
       "      <td>5</td>\n",
       "      <td>...</td>\n",
       "      <td>0</td>\n",
       "      <td>0</td>\n",
       "      <td>0</td>\n",
       "      <td>0</td>\n",
       "      <td>0</td>\n",
       "      <td>0</td>\n",
       "      <td>0</td>\n",
       "      <td>0</td>\n",
       "      <td>0</td>\n",
       "      <td>0</td>\n",
       "    </tr>\n",
       "    <tr>\n",
       "      <th>150146</th>\n",
       "      <td>2013-09-07</td>\n",
       "      <td>235.8375</td>\n",
       "      <td>0</td>\n",
       "      <td>0</td>\n",
       "      <td>30</td>\n",
       "      <td>2013</td>\n",
       "      <td>9</td>\n",
       "      <td>36</td>\n",
       "      <td>7</td>\n",
       "      <td>5</td>\n",
       "      <td>...</td>\n",
       "      <td>0</td>\n",
       "      <td>0</td>\n",
       "      <td>0</td>\n",
       "      <td>0</td>\n",
       "      <td>0</td>\n",
       "      <td>0</td>\n",
       "      <td>0</td>\n",
       "      <td>0</td>\n",
       "      <td>0</td>\n",
       "      <td>0</td>\n",
       "    </tr>\n",
       "    <tr>\n",
       "      <th>150147</th>\n",
       "      <td>2013-09-07</td>\n",
       "      <td>469.5375</td>\n",
       "      <td>1</td>\n",
       "      <td>1</td>\n",
       "      <td>31</td>\n",
       "      <td>2013</td>\n",
       "      <td>9</td>\n",
       "      <td>36</td>\n",
       "      <td>7</td>\n",
       "      <td>5</td>\n",
       "      <td>...</td>\n",
       "      <td>0</td>\n",
       "      <td>0</td>\n",
       "      <td>0</td>\n",
       "      <td>0</td>\n",
       "      <td>0</td>\n",
       "      <td>0</td>\n",
       "      <td>0</td>\n",
       "      <td>0</td>\n",
       "      <td>0</td>\n",
       "      <td>0</td>\n",
       "    </tr>\n",
       "    <tr>\n",
       "      <th>150148</th>\n",
       "      <td>2013-09-07</td>\n",
       "      <td>191.6625</td>\n",
       "      <td>0</td>\n",
       "      <td>1</td>\n",
       "      <td>12</td>\n",
       "      <td>2013</td>\n",
       "      <td>9</td>\n",
       "      <td>36</td>\n",
       "      <td>7</td>\n",
       "      <td>5</td>\n",
       "      <td>...</td>\n",
       "      <td>0</td>\n",
       "      <td>0</td>\n",
       "      <td>0</td>\n",
       "      <td>0</td>\n",
       "      <td>0</td>\n",
       "      <td>0</td>\n",
       "      <td>1</td>\n",
       "      <td>0</td>\n",
       "      <td>0</td>\n",
       "      <td>0</td>\n",
       "    </tr>\n",
       "    <tr>\n",
       "      <th>150149</th>\n",
       "      <td>2013-09-07</td>\n",
       "      <td>234.4125</td>\n",
       "      <td>0</td>\n",
       "      <td>0</td>\n",
       "      <td>15</td>\n",
       "      <td>2013</td>\n",
       "      <td>9</td>\n",
       "      <td>36</td>\n",
       "      <td>7</td>\n",
       "      <td>5</td>\n",
       "      <td>...</td>\n",
       "      <td>0</td>\n",
       "      <td>0</td>\n",
       "      <td>0</td>\n",
       "      <td>0</td>\n",
       "      <td>0</td>\n",
       "      <td>0</td>\n",
       "      <td>0</td>\n",
       "      <td>0</td>\n",
       "      <td>0</td>\n",
       "      <td>1</td>\n",
       "    </tr>\n",
       "  </tbody>\n",
       "</table>\n",
       "<p>150149 rows × 114 columns</p>\n",
       "</div>"
      ],
      "text/plain": [
       "             date  base_price is_featured_sku is_display_sku  units_sold  \\\n",
       "0      2011-01-17    111.8625               0              0          20   \n",
       "1      2011-01-17     99.0375               0              0          28   \n",
       "2      2011-01-17    133.9500               0              0          19   \n",
       "3      2011-01-17    133.9500               0              0          44   \n",
       "4      2011-01-17    141.0750               0              0          52   \n",
       "...           ...         ...             ...            ...         ...   \n",
       "150145 2013-09-07    235.8375               0              0          38   \n",
       "150146 2013-09-07    235.8375               0              0          30   \n",
       "150147 2013-09-07    469.5375               1              1          31   \n",
       "150148 2013-09-07    191.6625               0              1          12   \n",
       "150149 2013-09-07    234.4125               0              0          15   \n",
       "\n",
       "        year  month  week  day  weekday  ... sku_id_320485  sku_id_327492  \\\n",
       "0       2011      1     3   17        0  ...             0              0   \n",
       "1       2011      1     3   17        0  ...             0              0   \n",
       "2       2011      1     3   17        0  ...             0              0   \n",
       "3       2011      1     3   17        0  ...             0              0   \n",
       "4       2011      1     3   17        0  ...             0              0   \n",
       "...      ...    ...   ...  ...      ...  ...           ...            ...   \n",
       "150145  2013      9    36    7        5  ...             0              0   \n",
       "150146  2013      9    36    7        5  ...             0              0   \n",
       "150147  2013      9    36    7        5  ...             0              0   \n",
       "150148  2013      9    36    7        5  ...             0              0   \n",
       "150149  2013      9    36    7        5  ...             0              0   \n",
       "\n",
       "        sku_id_378934  sku_id_398721  sku_id_545621  sku_id_546789  \\\n",
       "0                   0              0              0              0   \n",
       "1                   0              0              0              0   \n",
       "2                   0              0              0              0   \n",
       "3                   0              0              0              0   \n",
       "4                   0              0              0              0   \n",
       "...               ...            ...            ...            ...   \n",
       "150145              0              0              0              0   \n",
       "150146              0              0              0              0   \n",
       "150147              0              0              0              0   \n",
       "150148              0              0              0              0   \n",
       "150149              0              0              0              0   \n",
       "\n",
       "        sku_id_547934  sku_id_600934  sku_id_673209  sku_id_679023  \n",
       "0                   0              0              0              0  \n",
       "1                   0              0              0              0  \n",
       "2                   0              0              0              0  \n",
       "3                   0              0              0              0  \n",
       "4                   0              0              0              0  \n",
       "...               ...            ...            ...            ...  \n",
       "150145              0              0              0              0  \n",
       "150146              0              0              0              0  \n",
       "150147              0              0              0              0  \n",
       "150148              1              0              0              0  \n",
       "150149              0              0              0              1  \n",
       "\n",
       "[150149 rows x 114 columns]"
      ]
     },
     "execution_count": 47,
     "metadata": {},
     "output_type": "execute_result"
    }
   ],
   "source": [
    "df_final"
   ]
  },
  {
   "cell_type": "markdown",
   "id": "b43459a1",
   "metadata": {},
   "source": [
    "## Spliting features & target values"
   ]
  },
  {
   "cell_type": "code",
   "execution_count": 48,
   "id": "7367ecb2",
   "metadata": {},
   "outputs": [],
   "source": [
    "#df_inal.set_index('date',inplace=True)\n",
    "#f_final.sort_index(inplace=True)\n",
    "x = df_final.drop(columns=[\"date\",\"dayname\",\"units_sold\"],axis=1)\n",
    "y = df_final[\"units_sold\"]"
   ]
  },
  {
   "cell_type": "code",
   "execution_count": 49,
   "id": "f41c4575",
   "metadata": {},
   "outputs": [
    {
     "data": {
      "text/plain": [
       "((150149, 111), (150149,))"
      ]
     },
     "execution_count": 49,
     "metadata": {},
     "output_type": "execute_result"
    }
   ],
   "source": [
    "x.shape , y.shape"
   ]
  },
  {
   "cell_type": "markdown",
   "id": "8f61d0e9",
   "metadata": {},
   "source": [
    "## Splitting dataset into training & validation data"
   ]
  },
  {
   "cell_type": "code",
   "execution_count": 50,
   "id": "a15a4230",
   "metadata": {},
   "outputs": [],
   "source": [
    "x_train,x_valid,y_train,y_valid =train_test_split(x,y,test_size=0.3,random_state=2)"
   ]
  },
  {
   "cell_type": "markdown",
   "id": "eeddb02f",
   "metadata": {},
   "source": [
    "### Time Series Splitting"
   ]
  },
  {
   "cell_type": "code",
   "execution_count": 51,
   "id": "b824e1b1",
   "metadata": {},
   "outputs": [],
   "source": [
    "from sklearn.model_selection import TimeSeriesSplit\n",
    "\n",
    "tss = TimeSeriesSplit(n_splits = 3)"
   ]
  },
  {
   "cell_type": "code",
   "execution_count": 52,
   "id": "2e230d6a",
   "metadata": {},
   "outputs": [],
   "source": [
    "#for train_index, valid_index in tss.split(x):\n",
    "    #x_train, x_valid = x.iloc[train_index, :], x.iloc[valid_index,:]\n",
    "    #y_train, y_valid = y.iloc[train_index], y.iloc[valid_index]"
   ]
  },
  {
   "cell_type": "code",
   "execution_count": 53,
   "id": "c4a7f2f0",
   "metadata": {},
   "outputs": [
    {
     "data": {
      "text/plain": [
       "((105104, 111), (45045, 111))"
      ]
     },
     "execution_count": 53,
     "metadata": {},
     "output_type": "execute_result"
    }
   ],
   "source": [
    "x_train.shape , x_valid.shape"
   ]
  },
  {
   "cell_type": "markdown",
   "id": "33941053",
   "metadata": {},
   "source": [
    "## Scaling Data (Standardization)"
   ]
  },
  {
   "cell_type": "code",
   "execution_count": 54,
   "id": "7a37ecfe",
   "metadata": {},
   "outputs": [],
   "source": [
    "from sklearn.preprocessing import StandardScaler"
   ]
  },
  {
   "cell_type": "code",
   "execution_count": 55,
   "id": "6c87b056",
   "metadata": {},
   "outputs": [],
   "source": [
    "scaler = StandardScaler()\n",
    "\n",
    "x_train = scaler.fit_transform(x_train)\n",
    "x_valid = scaler.transform(x_valid)"
   ]
  },
  {
   "cell_type": "code",
   "execution_count": 56,
   "id": "62eb3d14",
   "metadata": {},
   "outputs": [
    {
     "data": {
      "text/plain": [
       "array([[-0.73437718, -0.32360201, -0.38966303, ..., -0.07802556,\n",
       "        -0.04266797, -0.08851073],\n",
       "       [-1.00595763, -0.32360201, -0.38966303, ..., -0.07802556,\n",
       "        -0.04266797, -0.08851073],\n",
       "       [-0.37668585, -0.32360201, -0.38966303, ..., -0.07802556,\n",
       "        -0.04266797, -0.08851073],\n",
       "       ...,\n",
       "       [-0.82048805, -0.32360201, -0.38966303, ..., -0.07802556,\n",
       "        -0.04266797, -0.08851073],\n",
       "       [ 2.33911864, -0.32360201, -0.38966303, ..., -0.07802556,\n",
       "        -0.04266797, -0.08851073],\n",
       "       [-0.09185758, -0.32360201, -0.38966303, ..., -0.07802556,\n",
       "        -0.04266797, -0.08851073]])"
      ]
     },
     "execution_count": 56,
     "metadata": {},
     "output_type": "execute_result"
    }
   ],
   "source": [
    "x_train"
   ]
  },
  {
   "cell_type": "markdown",
   "id": "1eb6113f",
   "metadata": {},
   "source": [
    "## Linear Regression Model Building"
   ]
  },
  {
   "cell_type": "code",
   "execution_count": 57,
   "id": "98046d91",
   "metadata": {},
   "outputs": [
    {
     "data": {
      "text/html": [
       "<style>#sk-container-id-1 {color: black;background-color: white;}#sk-container-id-1 pre{padding: 0;}#sk-container-id-1 div.sk-toggleable {background-color: white;}#sk-container-id-1 label.sk-toggleable__label {cursor: pointer;display: block;width: 100%;margin-bottom: 0;padding: 0.3em;box-sizing: border-box;text-align: center;}#sk-container-id-1 label.sk-toggleable__label-arrow:before {content: \"▸\";float: left;margin-right: 0.25em;color: #696969;}#sk-container-id-1 label.sk-toggleable__label-arrow:hover:before {color: black;}#sk-container-id-1 div.sk-estimator:hover label.sk-toggleable__label-arrow:before {color: black;}#sk-container-id-1 div.sk-toggleable__content {max-height: 0;max-width: 0;overflow: hidden;text-align: left;background-color: #f0f8ff;}#sk-container-id-1 div.sk-toggleable__content pre {margin: 0.2em;color: black;border-radius: 0.25em;background-color: #f0f8ff;}#sk-container-id-1 input.sk-toggleable__control:checked~div.sk-toggleable__content {max-height: 200px;max-width: 100%;overflow: auto;}#sk-container-id-1 input.sk-toggleable__control:checked~label.sk-toggleable__label-arrow:before {content: \"▾\";}#sk-container-id-1 div.sk-estimator input.sk-toggleable__control:checked~label.sk-toggleable__label {background-color: #d4ebff;}#sk-container-id-1 div.sk-label input.sk-toggleable__control:checked~label.sk-toggleable__label {background-color: #d4ebff;}#sk-container-id-1 input.sk-hidden--visually {border: 0;clip: rect(1px 1px 1px 1px);clip: rect(1px, 1px, 1px, 1px);height: 1px;margin: -1px;overflow: hidden;padding: 0;position: absolute;width: 1px;}#sk-container-id-1 div.sk-estimator {font-family: monospace;background-color: #f0f8ff;border: 1px dotted black;border-radius: 0.25em;box-sizing: border-box;margin-bottom: 0.5em;}#sk-container-id-1 div.sk-estimator:hover {background-color: #d4ebff;}#sk-container-id-1 div.sk-parallel-item::after {content: \"\";width: 100%;border-bottom: 1px solid gray;flex-grow: 1;}#sk-container-id-1 div.sk-label:hover label.sk-toggleable__label {background-color: #d4ebff;}#sk-container-id-1 div.sk-serial::before {content: \"\";position: absolute;border-left: 1px solid gray;box-sizing: border-box;top: 0;bottom: 0;left: 50%;z-index: 0;}#sk-container-id-1 div.sk-serial {display: flex;flex-direction: column;align-items: center;background-color: white;padding-right: 0.2em;padding-left: 0.2em;position: relative;}#sk-container-id-1 div.sk-item {position: relative;z-index: 1;}#sk-container-id-1 div.sk-parallel {display: flex;align-items: stretch;justify-content: center;background-color: white;position: relative;}#sk-container-id-1 div.sk-item::before, #sk-container-id-1 div.sk-parallel-item::before {content: \"\";position: absolute;border-left: 1px solid gray;box-sizing: border-box;top: 0;bottom: 0;left: 50%;z-index: -1;}#sk-container-id-1 div.sk-parallel-item {display: flex;flex-direction: column;z-index: 1;position: relative;background-color: white;}#sk-container-id-1 div.sk-parallel-item:first-child::after {align-self: flex-end;width: 50%;}#sk-container-id-1 div.sk-parallel-item:last-child::after {align-self: flex-start;width: 50%;}#sk-container-id-1 div.sk-parallel-item:only-child::after {width: 0;}#sk-container-id-1 div.sk-dashed-wrapped {border: 1px dashed gray;margin: 0 0.4em 0.5em 0.4em;box-sizing: border-box;padding-bottom: 0.4em;background-color: white;}#sk-container-id-1 div.sk-label label {font-family: monospace;font-weight: bold;display: inline-block;line-height: 1.2em;}#sk-container-id-1 div.sk-label-container {text-align: center;}#sk-container-id-1 div.sk-container {/* jupyter's `normalize.less` sets `[hidden] { display: none; }` but bootstrap.min.css set `[hidden] { display: none !important; }` so we also need the `!important` here to be able to override the default hidden behavior on the sphinx rendered scikit-learn.org. See: https://github.com/scikit-learn/scikit-learn/issues/21755 */display: inline-block !important;position: relative;}#sk-container-id-1 div.sk-text-repr-fallback {display: none;}</style><div id=\"sk-container-id-1\" class=\"sk-top-container\"><div class=\"sk-text-repr-fallback\"><pre>LinearRegression(n_jobs=-1)</pre><b>In a Jupyter environment, please rerun this cell to show the HTML representation or trust the notebook. <br />On GitHub, the HTML representation is unable to render, please try loading this page with nbviewer.org.</b></div><div class=\"sk-container\" hidden><div class=\"sk-item\"><div class=\"sk-estimator sk-toggleable\"><input class=\"sk-toggleable__control sk-hidden--visually\" id=\"sk-estimator-id-1\" type=\"checkbox\" checked><label for=\"sk-estimator-id-1\" class=\"sk-toggleable__label sk-toggleable__label-arrow\">LinearRegression</label><div class=\"sk-toggleable__content\"><pre>LinearRegression(n_jobs=-1)</pre></div></div></div></div></div>"
      ],
      "text/plain": [
       "LinearRegression(n_jobs=-1)"
      ]
     },
     "execution_count": 57,
     "metadata": {},
     "output_type": "execute_result"
    }
   ],
   "source": [
    "## Creating instance model of linear regression class\n",
    "model_lr = linear_model.LinearRegression(n_jobs=-1)\n",
    "\n",
    "## Fit the training data\n",
    "model_lr.fit(x_train,y_train)"
   ]
  },
  {
   "cell_type": "code",
   "execution_count": 58,
   "id": "25ef8b9d",
   "metadata": {},
   "outputs": [
    {
     "data": {
      "text/plain": [
       "array([25, 58, 37, ..., 39, 38, 56], dtype=int64)"
      ]
     },
     "execution_count": 58,
     "metadata": {},
     "output_type": "execute_result"
    }
   ],
   "source": [
    "## Predict values using train data\n",
    "y_train_predict = model_lr.predict(x_train).round().astype(\"int64\")\n",
    "y_train_predict"
   ]
  },
  {
   "cell_type": "code",
   "execution_count": 59,
   "id": "8f97b580",
   "metadata": {},
   "outputs": [
    {
     "data": {
      "text/plain": [
       "array([39, 29, 51, ..., 16, 33, 87], dtype=int64)"
      ]
     },
     "execution_count": 59,
     "metadata": {},
     "output_type": "execute_result"
    }
   ],
   "source": [
    "## Predict values using validation data\n",
    "y_valid_predict = model_lr.predict(x_valid).round().astype(\"int64\")\n",
    "y_valid_predict"
   ]
  },
  {
   "cell_type": "markdown",
   "id": "0e1dc5c9",
   "metadata": {},
   "source": [
    "## Linear Regression Model Evaluation"
   ]
  },
  {
   "cell_type": "code",
   "execution_count": 60,
   "id": "fd83d2d0",
   "metadata": {},
   "outputs": [],
   "source": [
    "## Use minmax scale to sweeze predicted values between 0-1 so that we can calculate squared log error\n",
    "y_train_scale = minmax_scale(y_train,feature_range=(0,1))\n",
    "y_valid_scale = minmax_scale(y_valid,feature_range=(0,1))\n",
    "y_train_pred_scale = minmax_scale(y_train_predict,feature_range=(0, 1))\n",
    "y_valid_pred_scale = minmax_scale(y_valid_predict,feature_range=(0, 1))"
   ]
  },
  {
   "cell_type": "code",
   "execution_count": 61,
   "id": "aa91875e",
   "metadata": {},
   "outputs": [],
   "source": [
    "rmsle_train = np.sqrt(mean_squared_log_error(y_train_scale,y_train_pred_scale)) # Train RMSLE\n",
    "rmsle_valid = np.sqrt(mean_squared_log_error(y_valid_scale,y_valid_pred_scale)) # Validation RMSLE\n",
    "r2_train= r2_score(y_train, y_train_predict) \n",
    "r2_valid = r2_score(y_valid, y_valid_predict)"
   ]
  },
  {
   "cell_type": "code",
   "execution_count": 62,
   "id": "d00ad5f8",
   "metadata": {},
   "outputs": [
    {
     "name": "stdout",
     "output_type": "stream",
     "text": [
      "Weights: [-12.6986401    9.43032282   9.55870939   0.07601094   0.8741924\n",
      "  -0.06784891  -0.48963981  -1.63502133   1.06651187  -4.71846638\n",
      "  -7.010103    -6.0703025   -6.49348193  -2.3720338   -6.77544281\n",
      "  -7.30381531  -1.61112985  -4.69899267  -6.31584798  -6.8950501\n",
      "  -4.32802242  -5.4546669   -6.01148736  -5.5033577   -7.26918951\n",
      "  -3.89822661  -3.56277398  -7.35488     -5.85720568  -3.19369453\n",
      "  -5.85934242  -6.94381533  -1.72984216  -5.99328933  -3.79408164\n",
      "  -4.44965959  -4.81451195  -4.89231655  -6.75484837  -3.69844503\n",
      "  -6.90589608  -6.89658738  -6.95609685  -7.22753132  -6.0277448\n",
      "  -7.27238176  -5.3663746   -7.40875861  -6.77695435  -6.46671189\n",
      "  -5.37112836  -7.20629659  -6.61516806  -2.27611141  -6.7125219\n",
      "  -5.74463943  -6.1773185   -5.51050967  -2.36104323  -2.63626145\n",
      "  -7.0405441   -4.73664765  -7.66530784  -5.75801265  -4.55752865\n",
      "  -5.5613226   -4.26449122  -6.45958818  -6.6450318   -4.14714312\n",
      "  -6.93533728  -1.72049123  -5.12812405  -0.15693988  -4.91837249\n",
      "  -6.35186821  -6.8560214   -6.25432313  -3.87391667  -4.46020753\n",
      "  -4.2799309   -6.51229055  -3.63761824  -6.74534119   4.28502669\n",
      "   1.72989957  -3.41595617  -1.88969465   3.22689973  -1.17761943\n",
      "   9.43918194   3.45234681  -1.49378927   4.43600864   2.45582447\n",
      "   1.17515747   3.38193741   2.08398967  -0.33481195  -3.87311742\n",
      "  -3.86044588  -3.09414563  -2.20732496  -3.7677878   -1.54139969\n",
      "  -1.65369935  -1.29199914  -5.14923293  -1.10423646  -1.69387613\n",
      "  -2.19805013]\n"
     ]
    }
   ],
   "source": [
    "print('Weights:' ,model_lr.coef_)"
   ]
  },
  {
   "cell_type": "code",
   "execution_count": 63,
   "id": "4be3b437",
   "metadata": {},
   "outputs": [
    {
     "name": "stdout",
     "output_type": "stream",
     "text": [
      "Intercept: 46.96635713198355\n"
     ]
    }
   ],
   "source": [
    "print('Intercept:',model_lr.intercept_)"
   ]
  },
  {
   "cell_type": "code",
   "execution_count": 64,
   "id": "97573877",
   "metadata": {},
   "outputs": [
    {
     "name": "stdout",
     "output_type": "stream",
     "text": [
      "Linear Regression model:\n",
      "Train error(RMSLE): 0.1291833446550248\n",
      "Validation error(RMSLE): 0.12866023765045997\n",
      "Train R2-score: 0.609311236644243\n",
      "Validation R2-score: 0.6131245257433064\n"
     ]
    }
   ],
   "source": [
    "print('Linear Regression model:')\n",
    "print('Train error(RMSLE):', rmsle_train)\n",
    "print('Validation error(RMSLE):', rmsle_valid)\n",
    "print('Train R2-score:', r2_train)\n",
    "print('Validation R2-score:',r2_valid)"
   ]
  },
  {
   "cell_type": "markdown",
   "id": "a06eecd7",
   "metadata": {},
   "source": [
    "Conclusion:\n",
    "1. Root Mean Squared Log Error (RMSLE * 100) : Training Data    ----> 12.92\n",
    "2. Root Mean Squared Log Error (RMSLE * 100) : Validation Data  ----> 12.87"
   ]
  },
  {
   "cell_type": "markdown",
   "id": "ec524b5c",
   "metadata": {},
   "source": [
    "## Feature Importance"
   ]
  },
  {
   "cell_type": "code",
   "execution_count": 65,
   "id": "a0fa897e",
   "metadata": {},
   "outputs": [
    {
     "data": {
      "text/html": [
       "<div>\n",
       "<style scoped>\n",
       "    .dataframe tbody tr th:only-of-type {\n",
       "        vertical-align: middle;\n",
       "    }\n",
       "\n",
       "    .dataframe tbody tr th {\n",
       "        vertical-align: top;\n",
       "    }\n",
       "\n",
       "    .dataframe thead th {\n",
       "        text-align: right;\n",
       "    }\n",
       "</style>\n",
       "<table border=\"1\" class=\"dataframe\">\n",
       "  <thead>\n",
       "    <tr style=\"text-align: right;\">\n",
       "      <th></th>\n",
       "      <th>Feature</th>\n",
       "      <th>Weight_coefficient</th>\n",
       "    </tr>\n",
       "  </thead>\n",
       "  <tbody>\n",
       "    <tr>\n",
       "      <th>0</th>\n",
       "      <td>base_price</td>\n",
       "      <td>12.698640</td>\n",
       "    </tr>\n",
       "    <tr>\n",
       "      <th>2</th>\n",
       "      <td>is_display_sku</td>\n",
       "      <td>9.558709</td>\n",
       "    </tr>\n",
       "    <tr>\n",
       "      <th>90</th>\n",
       "      <td>sku_id_219009</td>\n",
       "      <td>9.439182</td>\n",
       "    </tr>\n",
       "    <tr>\n",
       "      <th>1</th>\n",
       "      <td>is_featured_sku</td>\n",
       "      <td>9.430323</td>\n",
       "    </tr>\n",
       "    <tr>\n",
       "      <th>62</th>\n",
       "      <td>store_id_9680</td>\n",
       "      <td>7.665308</td>\n",
       "    </tr>\n",
       "    <tr>\n",
       "      <th>47</th>\n",
       "      <td>store_id_9432</td>\n",
       "      <td>7.408759</td>\n",
       "    </tr>\n",
       "    <tr>\n",
       "      <th>27</th>\n",
       "      <td>store_id_8911</td>\n",
       "      <td>7.354880</td>\n",
       "    </tr>\n",
       "    <tr>\n",
       "      <th>15</th>\n",
       "      <td>store_id_8218</td>\n",
       "      <td>7.303815</td>\n",
       "    </tr>\n",
       "    <tr>\n",
       "      <th>45</th>\n",
       "      <td>store_id_9425</td>\n",
       "      <td>7.272382</td>\n",
       "    </tr>\n",
       "    <tr>\n",
       "      <th>24</th>\n",
       "      <td>store_id_8555</td>\n",
       "      <td>7.269190</td>\n",
       "    </tr>\n",
       "    <tr>\n",
       "      <th>43</th>\n",
       "      <td>store_id_9328</td>\n",
       "      <td>7.227531</td>\n",
       "    </tr>\n",
       "    <tr>\n",
       "      <th>51</th>\n",
       "      <td>store_id_9456</td>\n",
       "      <td>7.206297</td>\n",
       "    </tr>\n",
       "    <tr>\n",
       "      <th>60</th>\n",
       "      <td>store_id_9632</td>\n",
       "      <td>7.040544</td>\n",
       "    </tr>\n",
       "    <tr>\n",
       "      <th>10</th>\n",
       "      <td>store_id_8063</td>\n",
       "      <td>7.010103</td>\n",
       "    </tr>\n",
       "    <tr>\n",
       "      <th>42</th>\n",
       "      <td>store_id_9281</td>\n",
       "      <td>6.956097</td>\n",
       "    </tr>\n",
       "    <tr>\n",
       "      <th>31</th>\n",
       "      <td>store_id_9092</td>\n",
       "      <td>6.943815</td>\n",
       "    </tr>\n",
       "    <tr>\n",
       "      <th>70</th>\n",
       "      <td>store_id_9813</td>\n",
       "      <td>6.935337</td>\n",
       "    </tr>\n",
       "    <tr>\n",
       "      <th>40</th>\n",
       "      <td>store_id_9273</td>\n",
       "      <td>6.905896</td>\n",
       "    </tr>\n",
       "    <tr>\n",
       "      <th>41</th>\n",
       "      <td>store_id_9279</td>\n",
       "      <td>6.896587</td>\n",
       "    </tr>\n",
       "    <tr>\n",
       "      <th>19</th>\n",
       "      <td>store_id_8392</td>\n",
       "      <td>6.895050</td>\n",
       "    </tr>\n",
       "  </tbody>\n",
       "</table>\n",
       "</div>"
      ],
      "text/plain": [
       "            Feature  Weight_coefficient\n",
       "0        base_price           12.698640\n",
       "2    is_display_sku            9.558709\n",
       "90    sku_id_219009            9.439182\n",
       "1   is_featured_sku            9.430323\n",
       "62    store_id_9680            7.665308\n",
       "47    store_id_9432            7.408759\n",
       "27    store_id_8911            7.354880\n",
       "15    store_id_8218            7.303815\n",
       "45    store_id_9425            7.272382\n",
       "24    store_id_8555            7.269190\n",
       "43    store_id_9328            7.227531\n",
       "51    store_id_9456            7.206297\n",
       "60    store_id_9632            7.040544\n",
       "10    store_id_8063            7.010103\n",
       "42    store_id_9281            6.956097\n",
       "31    store_id_9092            6.943815\n",
       "70    store_id_9813            6.935337\n",
       "40    store_id_9273            6.905896\n",
       "41    store_id_9279            6.896587\n",
       "19    store_id_8392            6.895050"
      ]
     },
     "execution_count": 65,
     "metadata": {},
     "output_type": "execute_result"
    }
   ],
   "source": [
    "df_featureimp = pd.DataFrame({\"Feature\":x.columns,\"Weight_coefficient\":(abs(model_lr.coef_))})\n",
    "df_featureimp = df_featureimp.sort_values(by=[\"Weight_coefficient\"],ascending=False)\n",
    "df_featureimp.head(20)"
   ]
  },
  {
   "cell_type": "code",
   "execution_count": 66,
   "id": "e0979444",
   "metadata": {},
   "outputs": [
    {
     "data": {
      "image/png": "[encoded data removed]",
      "text/plain": [
       "<Figure size 1152x432 with 1 Axes>"
      ]
     },
     "metadata": {
      "needs_background": "light"
     },
     "output_type": "display_data"
    }
   ],
   "source": [
    "plt.figure(figsize=(16,6))\n",
    "sns.barplot(x = 'Feature',y = 'Weight_coefficient',data = df_featureimp.head(20))\n",
    "plt.title(\"Feature Importance\")\n",
    "plt.xticks(rotation = 45)\n",
    "plt.show()"
   ]
  },
  {
   "cell_type": "markdown",
   "id": "ab65bd87",
   "metadata": {},
   "source": [
    "## Model Pipeline (Test Data)"
   ]
  },
  {
   "cell_type": "code",
   "execution_count": 67,
   "id": "56bfcb90",
   "metadata": {},
   "outputs": [
    {
     "data": {
      "text/html": [
       "<div>\n",
       "<style scoped>\n",
       "    .dataframe tbody tr th:only-of-type {\n",
       "        vertical-align: middle;\n",
       "    }\n",
       "\n",
       "    .dataframe tbody tr th {\n",
       "        vertical-align: top;\n",
       "    }\n",
       "\n",
       "    .dataframe thead th {\n",
       "        text-align: right;\n",
       "    }\n",
       "</style>\n",
       "<table border=\"1\" class=\"dataframe\">\n",
       "  <thead>\n",
       "    <tr style=\"text-align: right;\">\n",
       "      <th></th>\n",
       "      <th>record_ID</th>\n",
       "      <th>date</th>\n",
       "      <th>store_id</th>\n",
       "      <th>sku_id</th>\n",
       "      <th>total_price</th>\n",
       "      <th>base_price</th>\n",
       "      <th>is_featured_sku</th>\n",
       "      <th>is_display_sku</th>\n",
       "    </tr>\n",
       "  </thead>\n",
       "  <tbody>\n",
       "    <tr>\n",
       "      <th>0</th>\n",
       "      <td>212645</td>\n",
       "      <td>16/07/13</td>\n",
       "      <td>8091</td>\n",
       "      <td>216418</td>\n",
       "      <td>108.3000</td>\n",
       "      <td>108.3000</td>\n",
       "      <td>0</td>\n",
       "      <td>0</td>\n",
       "    </tr>\n",
       "    <tr>\n",
       "      <th>1</th>\n",
       "      <td>212646</td>\n",
       "      <td>16/07/13</td>\n",
       "      <td>8091</td>\n",
       "      <td>216419</td>\n",
       "      <td>109.0125</td>\n",
       "      <td>109.0125</td>\n",
       "      <td>0</td>\n",
       "      <td>0</td>\n",
       "    </tr>\n",
       "    <tr>\n",
       "      <th>2</th>\n",
       "      <td>212647</td>\n",
       "      <td>16/07/13</td>\n",
       "      <td>8091</td>\n",
       "      <td>216425</td>\n",
       "      <td>133.9500</td>\n",
       "      <td>133.9500</td>\n",
       "      <td>0</td>\n",
       "      <td>0</td>\n",
       "    </tr>\n",
       "    <tr>\n",
       "      <th>3</th>\n",
       "      <td>212648</td>\n",
       "      <td>16/07/13</td>\n",
       "      <td>8091</td>\n",
       "      <td>216233</td>\n",
       "      <td>133.9500</td>\n",
       "      <td>133.9500</td>\n",
       "      <td>0</td>\n",
       "      <td>0</td>\n",
       "    </tr>\n",
       "    <tr>\n",
       "      <th>4</th>\n",
       "      <td>212649</td>\n",
       "      <td>16/07/13</td>\n",
       "      <td>8091</td>\n",
       "      <td>217390</td>\n",
       "      <td>176.7000</td>\n",
       "      <td>176.7000</td>\n",
       "      <td>0</td>\n",
       "      <td>0</td>\n",
       "    </tr>\n",
       "    <tr>\n",
       "      <th>...</th>\n",
       "      <td>...</td>\n",
       "      <td>...</td>\n",
       "      <td>...</td>\n",
       "      <td>...</td>\n",
       "      <td>...</td>\n",
       "      <td>...</td>\n",
       "      <td>...</td>\n",
       "      <td>...</td>\n",
       "    </tr>\n",
       "    <tr>\n",
       "      <th>13855</th>\n",
       "      <td>232281</td>\n",
       "      <td>01/10/13</td>\n",
       "      <td>9984</td>\n",
       "      <td>223245</td>\n",
       "      <td>241.5375</td>\n",
       "      <td>241.5375</td>\n",
       "      <td>0</td>\n",
       "      <td>0</td>\n",
       "    </tr>\n",
       "    <tr>\n",
       "      <th>13856</th>\n",
       "      <td>232282</td>\n",
       "      <td>01/10/13</td>\n",
       "      <td>9984</td>\n",
       "      <td>223153</td>\n",
       "      <td>240.8250</td>\n",
       "      <td>240.8250</td>\n",
       "      <td>0</td>\n",
       "      <td>0</td>\n",
       "    </tr>\n",
       "    <tr>\n",
       "      <th>13857</th>\n",
       "      <td>232285</td>\n",
       "      <td>01/10/13</td>\n",
       "      <td>9984</td>\n",
       "      <td>245338</td>\n",
       "      <td>382.6125</td>\n",
       "      <td>401.8500</td>\n",
       "      <td>1</td>\n",
       "      <td>1</td>\n",
       "    </tr>\n",
       "    <tr>\n",
       "      <th>13858</th>\n",
       "      <td>232286</td>\n",
       "      <td>01/10/13</td>\n",
       "      <td>9984</td>\n",
       "      <td>547934</td>\n",
       "      <td>191.6625</td>\n",
       "      <td>191.6625</td>\n",
       "      <td>0</td>\n",
       "      <td>0</td>\n",
       "    </tr>\n",
       "    <tr>\n",
       "      <th>13859</th>\n",
       "      <td>232287</td>\n",
       "      <td>01/10/13</td>\n",
       "      <td>9984</td>\n",
       "      <td>679023</td>\n",
       "      <td>234.4125</td>\n",
       "      <td>234.4125</td>\n",
       "      <td>0</td>\n",
       "      <td>0</td>\n",
       "    </tr>\n",
       "  </tbody>\n",
       "</table>\n",
       "<p>13860 rows × 8 columns</p>\n",
       "</div>"
      ],
      "text/plain": [
       "       record_ID      date  store_id  sku_id  total_price  base_price  \\\n",
       "0         212645  16/07/13      8091  216418     108.3000    108.3000   \n",
       "1         212646  16/07/13      8091  216419     109.0125    109.0125   \n",
       "2         212647  16/07/13      8091  216425     133.9500    133.9500   \n",
       "3         212648  16/07/13      8091  216233     133.9500    133.9500   \n",
       "4         212649  16/07/13      8091  217390     176.7000    176.7000   \n",
       "...          ...       ...       ...     ...          ...         ...   \n",
       "13855     232281  01/10/13      9984  223245     241.5375    241.5375   \n",
       "13856     232282  01/10/13      9984  223153     240.8250    240.8250   \n",
       "13857     232285  01/10/13      9984  245338     382.6125    401.8500   \n",
       "13858     232286  01/10/13      9984  547934     191.6625    191.6625   \n",
       "13859     232287  01/10/13      9984  679023     234.4125    234.4125   \n",
       "\n",
       "       is_featured_sku  is_display_sku  \n",
       "0                    0               0  \n",
       "1                    0               0  \n",
       "2                    0               0  \n",
       "3                    0               0  \n",
       "4                    0               0  \n",
       "...                ...             ...  \n",
       "13855                0               0  \n",
       "13856                0               0  \n",
       "13857                1               1  \n",
       "13858                0               0  \n",
       "13859                0               0  \n",
       "\n",
       "[13860 rows x 8 columns]"
      ]
     },
     "execution_count": 67,
     "metadata": {},
     "output_type": "execute_result"
    }
   ],
   "source": [
    "df_test"
   ]
  },
  {
   "cell_type": "code",
   "execution_count": 68,
   "id": "55d0c827",
   "metadata": {},
   "outputs": [
    {
     "data": {
      "text/plain": [
       "(13860, 8)"
      ]
     },
     "execution_count": 68,
     "metadata": {},
     "output_type": "execute_result"
    }
   ],
   "source": [
    "df_test.shape"
   ]
  },
  {
   "cell_type": "code",
   "execution_count": 69,
   "id": "e75a2104",
   "metadata": {},
   "outputs": [
    {
     "name": "stdout",
     "output_type": "stream",
     "text": [
      "<class 'pandas.core.frame.DataFrame'>\n",
      "RangeIndex: 13860 entries, 0 to 13859\n",
      "Data columns (total 8 columns):\n",
      " #   Column           Non-Null Count  Dtype  \n",
      "---  ------           --------------  -----  \n",
      " 0   record_ID        13860 non-null  int64  \n",
      " 1   date             13860 non-null  object \n",
      " 2   store_id         13860 non-null  int64  \n",
      " 3   sku_id           13860 non-null  int64  \n",
      " 4   total_price      13860 non-null  float64\n",
      " 5   base_price       13860 non-null  float64\n",
      " 6   is_featured_sku  13860 non-null  int64  \n",
      " 7   is_display_sku   13860 non-null  int64  \n",
      "dtypes: float64(2), int64(5), object(1)\n",
      "memory usage: 866.4+ KB\n"
     ]
    }
   ],
   "source": [
    "df_test.info()"
   ]
  },
  {
   "cell_type": "code",
   "execution_count": 70,
   "id": "390f28fa",
   "metadata": {},
   "outputs": [],
   "source": [
    "df_test[\"date\"] = pd.to_datetime(df_test[\"date\"])\n",
    "df_test[\"store_id\"] = df_test[\"store_id\"].astype(\"category\")\n",
    "df_test[\"sku_id\"] = df_test[\"sku_id\"].astype(\"category\")\n",
    "df_test[\"is_featured_sku\"] = df_test[\"is_featured_sku\"].astype(\"category\")\n",
    "df_test[\"is_display_sku\"] = df_test[\"is_display_sku\"].astype(\"category\")"
   ]
  },
  {
   "cell_type": "code",
   "execution_count": 71,
   "id": "7b36da26",
   "metadata": {},
   "outputs": [
    {
     "name": "stdout",
     "output_type": "stream",
     "text": [
      "<class 'pandas.core.frame.DataFrame'>\n",
      "RangeIndex: 13860 entries, 0 to 13859\n",
      "Data columns (total 8 columns):\n",
      " #   Column           Non-Null Count  Dtype         \n",
      "---  ------           --------------  -----         \n",
      " 0   record_ID        13860 non-null  int64         \n",
      " 1   date             13860 non-null  datetime64[ns]\n",
      " 2   store_id         13860 non-null  category      \n",
      " 3   sku_id           13860 non-null  category      \n",
      " 4   total_price      13860 non-null  float64       \n",
      " 5   base_price       13860 non-null  float64       \n",
      " 6   is_featured_sku  13860 non-null  category      \n",
      " 7   is_display_sku   13860 non-null  category      \n",
      "dtypes: category(4), datetime64[ns](1), float64(2), int64(1)\n",
      "memory usage: 491.5 KB\n"
     ]
    }
   ],
   "source": [
    "df_test.info()"
   ]
  },
  {
   "cell_type": "code",
   "execution_count": 72,
   "id": "7bb560dc",
   "metadata": {},
   "outputs": [
    {
     "data": {
      "text/plain": [
       "record_ID          0\n",
       "date               0\n",
       "store_id           0\n",
       "sku_id             0\n",
       "total_price        0\n",
       "base_price         0\n",
       "is_featured_sku    0\n",
       "is_display_sku     0\n",
       "dtype: int64"
      ]
     },
     "execution_count": 72,
     "metadata": {},
     "output_type": "execute_result"
    }
   ],
   "source": [
    "df_test.isnull().sum()"
   ]
  },
  {
   "cell_type": "code",
   "execution_count": 73,
   "id": "facd0246",
   "metadata": {},
   "outputs": [],
   "source": [
    "def model_testdata_func(df):\n",
    "    ## Drop the record_ID & total_price column \n",
    "    df.drop(columns = [\"record_ID\",\"total_price\"],axis=1,inplace=True)\n",
    "    \n",
    "    ## Feature Extarction\n",
    "    df[\"year\"] = df[\"date\"].dt.year\n",
    "    df[\"month\"] = df[\"date\"].dt.month\n",
    "    df[\"week\"] = df[\"date\"].dt.week\n",
    "    df[\"day\"] = df[\"date\"].dt.day\n",
    "    df[\"weekday\"] = df[\"date\"].dt.dayofweek # 0 - Monday & 6 - Sunday\n",
    "    df['is_weekend'] = np.where(df['weekday'].isin([5,6]),1,0)\n",
    "    \n",
    "    ## One Hot Encoding of categorical columns\n",
    "    df_final = pd.get_dummies(data=df,columns=[\"store_id\",\"sku_id\"],drop_first=True)\n",
    "    df_final = df_final.drop(columns=\"date\",axis=1)    \n",
    "    \n",
    "    ## Standaridization\n",
    "    x_test = scaler.transform(df_final)\n",
    "    \n",
    "    return x_test"
   ]
  },
  {
   "cell_type": "code",
   "execution_count": 74,
   "id": "e0b3b328",
   "metadata": {},
   "outputs": [
    {
     "data": {
      "text/plain": [
       "array([[-1.01920545, -0.32360201, -0.38966303, ..., -0.07802556,\n",
       "        -0.04266797, -0.08851073],\n",
       "       [-1.01258154, -0.32360201, -0.38966303, ..., -0.07802556,\n",
       "        -0.04266797, -0.08851073],\n",
       "       [-0.78074457, -0.32360201, -0.38966303, ..., -0.07802556,\n",
       "        -0.04266797, -0.08851073],\n",
       "       ...,\n",
       "       [ 1.70984687,  3.09021567,  2.5663199 , ..., -0.07802556,\n",
       "        -0.04266797, -0.08851073],\n",
       "       [-0.24420759, -0.32360201, -0.38966303, ..., -0.07802556,\n",
       "        -0.04266797, -0.08851073],\n",
       "       [ 0.15322722, -0.32360201, -0.38966303, ..., -0.07802556,\n",
       "        -0.04266797, 11.29806474]])"
      ]
     },
     "execution_count": 74,
     "metadata": {},
     "output_type": "execute_result"
    }
   ],
   "source": [
    "x_test = model_testdata_func(df_test)\n",
    "x_test"
   ]
  },
  {
   "cell_type": "code",
   "execution_count": 75,
   "id": "ffa31fd7",
   "metadata": {},
   "outputs": [
    {
     "data": {
      "text/plain": [
       "(13860, 111)"
      ]
     },
     "execution_count": 75,
     "metadata": {},
     "output_type": "execute_result"
    }
   ],
   "source": [
    "x_test.shape"
   ]
  },
  {
   "cell_type": "markdown",
   "id": "16bd919e",
   "metadata": {},
   "source": [
    "## Test Data Prediction"
   ]
  },
  {
   "cell_type": "code",
   "execution_count": 76,
   "id": "d1ca028a",
   "metadata": {},
   "outputs": [
    {
     "data": {
      "text/plain": [
       "array([45, 34,  9, ..., 72, -5, -3], dtype=int64)"
      ]
     },
     "execution_count": 76,
     "metadata": {},
     "output_type": "execute_result"
    }
   ],
   "source": [
    "y_test_predict = model_lr.predict(x_test).round().astype(\"int64\")\n",
    "y_test_predict"
   ]
  },
  {
   "cell_type": "code",
   "execution_count": 77,
   "id": "80cf264d",
   "metadata": {},
   "outputs": [
    {
     "data": {
      "text/html": [
       "<div>\n",
       "<style scoped>\n",
       "    .dataframe tbody tr th:only-of-type {\n",
       "        vertical-align: middle;\n",
       "    }\n",
       "\n",
       "    .dataframe tbody tr th {\n",
       "        vertical-align: top;\n",
       "    }\n",
       "\n",
       "    .dataframe thead th {\n",
       "        text-align: right;\n",
       "    }\n",
       "</style>\n",
       "<table border=\"1\" class=\"dataframe\">\n",
       "  <thead>\n",
       "    <tr style=\"text-align: right;\">\n",
       "      <th></th>\n",
       "      <th>Target</th>\n",
       "    </tr>\n",
       "  </thead>\n",
       "  <tbody>\n",
       "    <tr>\n",
       "      <th>0</th>\n",
       "      <td>45</td>\n",
       "    </tr>\n",
       "    <tr>\n",
       "      <th>1</th>\n",
       "      <td>34</td>\n",
       "    </tr>\n",
       "    <tr>\n",
       "      <th>2</th>\n",
       "      <td>9</td>\n",
       "    </tr>\n",
       "    <tr>\n",
       "      <th>3</th>\n",
       "      <td>23</td>\n",
       "    </tr>\n",
       "    <tr>\n",
       "      <th>4</th>\n",
       "      <td>32</td>\n",
       "    </tr>\n",
       "    <tr>\n",
       "      <th>...</th>\n",
       "      <td>...</td>\n",
       "    </tr>\n",
       "    <tr>\n",
       "      <th>13855</th>\n",
       "      <td>35</td>\n",
       "    </tr>\n",
       "    <tr>\n",
       "      <th>13856</th>\n",
       "      <td>27</td>\n",
       "    </tr>\n",
       "    <tr>\n",
       "      <th>13857</th>\n",
       "      <td>72</td>\n",
       "    </tr>\n",
       "    <tr>\n",
       "      <th>13858</th>\n",
       "      <td>-5</td>\n",
       "    </tr>\n",
       "    <tr>\n",
       "      <th>13859</th>\n",
       "      <td>-3</td>\n",
       "    </tr>\n",
       "  </tbody>\n",
       "</table>\n",
       "<p>13860 rows × 1 columns</p>\n",
       "</div>"
      ],
      "text/plain": [
       "       Target\n",
       "0          45\n",
       "1          34\n",
       "2           9\n",
       "3          23\n",
       "4          32\n",
       "...       ...\n",
       "13855      35\n",
       "13856      27\n",
       "13857      72\n",
       "13858      -5\n",
       "13859      -3\n",
       "\n",
       "[13860 rows x 1 columns]"
      ]
     },
     "execution_count": 77,
     "metadata": {},
     "output_type": "execute_result"
    }
   ],
   "source": [
    "submission = pd.DataFrame({\"Target\":y_test_predict})\n",
    "submission"
   ]
  },
  {
   "cell_type": "code",
   "execution_count": null,
   "id": "871fee36",
   "metadata": {},
   "outputs": [],
   "source": []
  }
 ],
 "metadata": {
  "kernelspec": {
   "display_name": "Python 3 (ipykernel)",
   "language": "python",
   "name": "python3"
  },
  "language_info": {
   "codemirror_mode": {
    "name": "ipython",
    "version": 3
   },
   "file_extension": ".py",
   "mimetype": "text/x-python",
   "name": "python",
   "nbconvert_exporter": "python",
   "pygments_lexer": "ipython3",
   "version": "3.9.12"
  }
 },
 "nbformat": 4,
 "nbformat_minor": 5
}
